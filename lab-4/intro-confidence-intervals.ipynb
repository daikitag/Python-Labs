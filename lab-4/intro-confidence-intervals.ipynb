{
 "cells": [
  {
   "cell_type": "markdown",
   "metadata": {},
   "source": [
    "### Load packages and dataset"
   ]
  },
  {
   "cell_type": "code",
   "execution_count": 1,
   "metadata": {},
   "outputs": [],
   "source": [
    "# import packages\n",
    "\n",
    "import pandas as pd\n",
    "import numpy as np\n",
    "from matplotlib import pyplot as plt\n",
    "import math"
   ]
  },
  {
   "cell_type": "code",
   "execution_count": 2,
   "metadata": {
    "scrolled": false
   },
   "outputs": [
    {
     "data": {
      "text/html": [
       "<div>\n",
       "<style>\n",
       "    .dataframe thead tr:only-child th {\n",
       "        text-align: right;\n",
       "    }\n",
       "\n",
       "    .dataframe thead th {\n",
       "        text-align: left;\n",
       "    }\n",
       "\n",
       "    .dataframe tbody tr th {\n",
       "        vertical-align: top;\n",
       "    }\n",
       "</style>\n",
       "<table border=\"1\" class=\"dataframe\">\n",
       "  <thead>\n",
       "    <tr style=\"text-align: right;\">\n",
       "      <th></th>\n",
       "      <th>SEQN</th>\n",
       "      <th>BMDSTATS</th>\n",
       "      <th>BMXWT</th>\n",
       "      <th>BMIWT</th>\n",
       "      <th>BMXRECUM</th>\n",
       "      <th>BMIRECUM</th>\n",
       "      <th>BMXHEAD</th>\n",
       "      <th>BMIHEAD</th>\n",
       "      <th>BMXHT</th>\n",
       "      <th>BMIHT</th>\n",
       "      <th>...</th>\n",
       "      <th>BMXARMC</th>\n",
       "      <th>BMIARMC</th>\n",
       "      <th>BMXWAIST</th>\n",
       "      <th>BMIWAIST</th>\n",
       "      <th>BMXSAD1</th>\n",
       "      <th>BMXSAD2</th>\n",
       "      <th>BMXSAD3</th>\n",
       "      <th>BMXSAD4</th>\n",
       "      <th>BMDAVSAD</th>\n",
       "      <th>BMDSADCM</th>\n",
       "    </tr>\n",
       "  </thead>\n",
       "  <tbody>\n",
       "    <tr>\n",
       "      <th>0</th>\n",
       "      <td>62161</td>\n",
       "      <td>1</td>\n",
       "      <td>69.2</td>\n",
       "      <td>NaN</td>\n",
       "      <td>NaN</td>\n",
       "      <td>NaN</td>\n",
       "      <td>NaN</td>\n",
       "      <td>NaN</td>\n",
       "      <td>172.3</td>\n",
       "      <td>NaN</td>\n",
       "      <td>...</td>\n",
       "      <td>32.5</td>\n",
       "      <td>NaN</td>\n",
       "      <td>81.0</td>\n",
       "      <td>NaN</td>\n",
       "      <td>17.7</td>\n",
       "      <td>17.9</td>\n",
       "      <td>NaN</td>\n",
       "      <td>NaN</td>\n",
       "      <td>17.8</td>\n",
       "      <td>NaN</td>\n",
       "    </tr>\n",
       "    <tr>\n",
       "      <th>1</th>\n",
       "      <td>62162</td>\n",
       "      <td>1</td>\n",
       "      <td>12.7</td>\n",
       "      <td>NaN</td>\n",
       "      <td>95.7</td>\n",
       "      <td>NaN</td>\n",
       "      <td>NaN</td>\n",
       "      <td>NaN</td>\n",
       "      <td>94.7</td>\n",
       "      <td>NaN</td>\n",
       "      <td>...</td>\n",
       "      <td>16.6</td>\n",
       "      <td>NaN</td>\n",
       "      <td>45.4</td>\n",
       "      <td>NaN</td>\n",
       "      <td>NaN</td>\n",
       "      <td>NaN</td>\n",
       "      <td>NaN</td>\n",
       "      <td>NaN</td>\n",
       "      <td>NaN</td>\n",
       "      <td>NaN</td>\n",
       "    </tr>\n",
       "    <tr>\n",
       "      <th>2</th>\n",
       "      <td>62163</td>\n",
       "      <td>1</td>\n",
       "      <td>49.4</td>\n",
       "      <td>NaN</td>\n",
       "      <td>NaN</td>\n",
       "      <td>NaN</td>\n",
       "      <td>NaN</td>\n",
       "      <td>NaN</td>\n",
       "      <td>168.9</td>\n",
       "      <td>NaN</td>\n",
       "      <td>...</td>\n",
       "      <td>22.0</td>\n",
       "      <td>NaN</td>\n",
       "      <td>64.6</td>\n",
       "      <td>NaN</td>\n",
       "      <td>15.6</td>\n",
       "      <td>15.5</td>\n",
       "      <td>NaN</td>\n",
       "      <td>NaN</td>\n",
       "      <td>15.6</td>\n",
       "      <td>NaN</td>\n",
       "    </tr>\n",
       "    <tr>\n",
       "      <th>3</th>\n",
       "      <td>62164</td>\n",
       "      <td>1</td>\n",
       "      <td>67.2</td>\n",
       "      <td>NaN</td>\n",
       "      <td>NaN</td>\n",
       "      <td>NaN</td>\n",
       "      <td>NaN</td>\n",
       "      <td>NaN</td>\n",
       "      <td>170.1</td>\n",
       "      <td>NaN</td>\n",
       "      <td>...</td>\n",
       "      <td>29.3</td>\n",
       "      <td>NaN</td>\n",
       "      <td>80.1</td>\n",
       "      <td>NaN</td>\n",
       "      <td>18.3</td>\n",
       "      <td>18.5</td>\n",
       "      <td>NaN</td>\n",
       "      <td>NaN</td>\n",
       "      <td>18.4</td>\n",
       "      <td>NaN</td>\n",
       "    </tr>\n",
       "    <tr>\n",
       "      <th>4</th>\n",
       "      <td>62165</td>\n",
       "      <td>1</td>\n",
       "      <td>69.1</td>\n",
       "      <td>NaN</td>\n",
       "      <td>NaN</td>\n",
       "      <td>NaN</td>\n",
       "      <td>NaN</td>\n",
       "      <td>NaN</td>\n",
       "      <td>159.4</td>\n",
       "      <td>NaN</td>\n",
       "      <td>...</td>\n",
       "      <td>29.7</td>\n",
       "      <td>NaN</td>\n",
       "      <td>86.7</td>\n",
       "      <td>NaN</td>\n",
       "      <td>21.0</td>\n",
       "      <td>20.8</td>\n",
       "      <td>NaN</td>\n",
       "      <td>NaN</td>\n",
       "      <td>20.9</td>\n",
       "      <td>NaN</td>\n",
       "    </tr>\n",
       "  </tbody>\n",
       "</table>\n",
       "<p>5 rows × 26 columns</p>\n",
       "</div>"
      ],
      "text/plain": [
       "    SEQN  BMDSTATS  BMXWT  BMIWT  BMXRECUM  BMIRECUM  BMXHEAD  BMIHEAD  BMXHT  \\\n",
       "0  62161         1   69.2    NaN       NaN       NaN      NaN      NaN  172.3   \n",
       "1  62162         1   12.7    NaN      95.7       NaN      NaN      NaN   94.7   \n",
       "2  62163         1   49.4    NaN       NaN       NaN      NaN      NaN  168.9   \n",
       "3  62164         1   67.2    NaN       NaN       NaN      NaN      NaN  170.1   \n",
       "4  62165         1   69.1    NaN       NaN       NaN      NaN      NaN  159.4   \n",
       "\n",
       "   BMIHT    ...     BMXARMC  BMIARMC  BMXWAIST  BMIWAIST  BMXSAD1  BMXSAD2  \\\n",
       "0    NaN    ...        32.5      NaN      81.0       NaN     17.7     17.9   \n",
       "1    NaN    ...        16.6      NaN      45.4       NaN      NaN      NaN   \n",
       "2    NaN    ...        22.0      NaN      64.6       NaN     15.6     15.5   \n",
       "3    NaN    ...        29.3      NaN      80.1       NaN     18.3     18.5   \n",
       "4    NaN    ...        29.7      NaN      86.7       NaN     21.0     20.8   \n",
       "\n",
       "   BMXSAD3  BMXSAD4  BMDAVSAD  BMDSADCM  \n",
       "0      NaN      NaN      17.8       NaN  \n",
       "1      NaN      NaN       NaN       NaN  \n",
       "2      NaN      NaN      15.6       NaN  \n",
       "3      NaN      NaN      18.4       NaN  \n",
       "4      NaN      NaN      20.9       NaN  \n",
       "\n",
       "[5 rows x 26 columns]"
      ]
     },
     "execution_count": 2,
     "metadata": {},
     "output_type": "execute_result"
    }
   ],
   "source": [
    "# load dataset\n",
    "\n",
    "bmx_data = pd.read_csv(\"datasets/BMX_data.csv\")\n",
    "bmx_data.head()"
   ]
  },
  {
   "cell_type": "markdown",
   "metadata": {},
   "source": [
    "## Task 1: Compute a single 95% confidence interval"
   ]
  },
  {
   "cell_type": "code",
   "execution_count": 3,
   "metadata": {},
   "outputs": [
    {
     "name": "stdout",
     "output_type": "stream",
     "text": [
      "61.52891918208375\n"
     ]
    }
   ],
   "source": [
    "# calculate \"population\" mean\n",
    "\n",
    "all_weights = bmx_data[\"BMXWT\"] \n",
    "pop_weight_mean = np.mean(all_weights)\n",
    "print(pop_weight_mean)"
   ]
  },
  {
   "cell_type": "markdown",
   "metadata": {},
   "source": [
    "<p>\n",
    "<details><summary>Click to show answer</summary><br>\n",
    "    \n",
    "`61.52891918208375`\n",
    "\n",
    "</details>\n",
    "</p>"
   ]
  },
  {
   "cell_type": "markdown",
   "metadata": {},
   "source": [
    "<p>\n",
    "<details><summary>Click to show solution</summary><br>\n",
    "    \n",
    "```python\n",
    "# calculate \"population\" mean\n",
    "\n",
    "all_weights = bmx_data[\"BMXWT\"]\n",
    "pop_weight_mean = np.mean(all_weights)\n",
    "print(pop_weight_mean)\n",
    "```\n",
    "\n",
    "</details>\n",
    "</p>"
   ]
  },
  {
   "cell_type": "code",
   "execution_count": 4,
   "metadata": {},
   "outputs": [
    {
     "name": "stdout",
     "output_type": "stream",
     "text": [
      "[110.1, 102.8, 57.6, 103.9, 75.4, 69.2, 118.0, 81.4, 41.4, 9.9]\n"
     ]
    }
   ],
   "source": [
    "# create sample of 1000 weight values\n",
    "\n",
    "sample_weights = bmx_data[\"BMXWT\"].sample(1000)\n",
    "\n",
    "print(list(sample_weights[:10])) #print the first 10 values in this sample"
   ]
  },
  {
   "cell_type": "code",
   "execution_count": 5,
   "metadata": {},
   "outputs": [
    {
     "name": "stdout",
     "output_type": "stream",
     "text": [
      "60.54068825910932\n"
     ]
    }
   ],
   "source": [
    "# calculate sample mean\n",
    "\n",
    "sample_mean = np.mean(sample_weights)\n",
    "print(sample_mean)"
   ]
  },
  {
   "cell_type": "markdown",
   "metadata": {},
   "source": [
    "<p>\n",
    "<details><summary>Click to show solution</summary><br>\n",
    "    \n",
    "```python\n",
    "# calculate sample mean\n",
    "\n",
    "sample_mean = np.mean(sample_weights)\n",
    "print(sample_mean)\n",
    "```\n",
    "\n",
    "</details>\n",
    "</p>"
   ]
  },
  {
   "cell_type": "code",
   "execution_count": 6,
   "metadata": {},
   "outputs": [
    {
     "name": "stdout",
     "output_type": "stream",
     "text": [
      "31.17981940274571\n"
     ]
    }
   ],
   "source": [
    "# calculate sample standard deviation\n",
    "\n",
    "sample_stdev = np.std(sample_weights)\n",
    "print(sample_stdev)"
   ]
  },
  {
   "cell_type": "markdown",
   "metadata": {},
   "source": [
    "<p>\n",
    "<details><summary>Click to show solution</summary><br>\n",
    "    \n",
    "```python\n",
    "# calculate sample standard deviation\n",
    "\n",
    "sample_stdev = np.std(sample_weights)\n",
    "print(sample_stdev)\n",
    "```\n",
    "\n",
    "</details>\n",
    "</p>"
   ]
  },
  {
   "cell_type": "code",
   "execution_count": null,
   "metadata": {},
   "outputs": [],
   "source": [
    "# calculate 95% confidence interval for weight\n",
    "\n",
    "n = 1000 #sample size\n",
    "\n",
    "\n",
    "\n",
    "\n",
    "print(ci)"
   ]
  },
  {
   "cell_type": "markdown",
   "metadata": {},
   "source": [
    "<p>\n",
    "<details><summary>Click to show solution</summary><br>\n",
    "    \n",
    "```python\n",
    "# calculate 95% confidence interval for weight\n",
    "\n",
    "n = 1000 #sample size\n",
    "\n",
    "low_ci_bound = sample_mean - 1.96 * (sample_stdev/math.sqrt(n))\n",
    "high_ci_bound = sample_mean + 1.96 * (sample_stdev/math.sqrt(n))\n",
    "ci = [low_ci_bound, high_ci_bound]\n",
    "print(ci)\n",
    "```\n",
    "\n",
    "</details>\n",
    "</p>"
   ]
  },
  {
   "cell_type": "code",
   "execution_count": null,
   "metadata": {},
   "outputs": [],
   "source": []
  }
 ],
 "metadata": {
  "kernelspec": {
   "display_name": "Python 3",
   "language": "python",
   "name": "python3"
  },
  "language_info": {
   "codemirror_mode": {
    "name": "ipython",
    "version": 3
   },
   "file_extension": ".py",
   "mimetype": "text/x-python",
   "name": "python",
   "nbconvert_exporter": "python",
   "pygments_lexer": "ipython3",
   "version": "3.4.3"
  }
 },
 "nbformat": 4,
 "nbformat_minor": 2
}
