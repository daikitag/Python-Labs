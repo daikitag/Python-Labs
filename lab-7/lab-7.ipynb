{
 "cells": [
  {
   "cell_type": "markdown",
   "metadata": {},
   "source": [
    "# Lab 7: Linear Regression Analysis\n",
    "\n",
    "For this first section, we will be using our NHANES BMX dataset again.\n",
    "\n",
    "***\n",
    "\n",
    "### Load packages and dataset"
   ]
  },
  {
   "cell_type": "code",
   "execution_count": null,
   "metadata": {},
   "outputs": [],
   "source": [
    "# import packages\n",
    "\n",
    "import pandas as pd\n",
    "import numpy as np\n",
    "from matplotlib import pyplot as plt\n",
    "\n",
    "from statsmodels.regression.linear_model import OLS\n",
    "import statsmodels.api as sm"
   ]
  },
  {
   "cell_type": "code",
   "execution_count": null,
   "metadata": {},
   "outputs": [],
   "source": [
    "# load dataset\n",
    "\n",
    "bmx_data = pd.read_csv(\"datasets/BMX_data.csv\")\n",
    "display(bmx_data.head())"
   ]
  },
  {
   "cell_type": "markdown",
   "metadata": {},
   "source": [
    "## Scatter Plots with Simple Regression Line\n",
    "\n",
    "### Task 1\n",
    "\n",
    "Below, we will create the scatter plot of weight vs height from lab-6. **Run the cell to display this scatter plot.**"
   ]
  },
  {
   "cell_type": "code",
   "execution_count": null,
   "metadata": {},
   "outputs": [],
   "source": [
    "# pull out the height and weight values from the dataframe\n",
    "# these values are stored in the columns \"BMXHT\" and \"BMXWT\"\n",
    "\n",
    "height_values = bmx_data[\"BMXHT\"]\n",
    "weight_values = bmx_data[\"BMXWT\"]\n",
    "\n",
    "# complete the code below to create the scatter plot\n",
    "\n",
    "fig, axs = plt.subplots(figsize=(10,7))\n",
    "axs.scatter(height_values, weight_values, c=\"SkyBlue\")\n",
    "plt.title(\"Weight vs Height\", fontsize=20)\n",
    "axs.set_xlabel(\"Height (cm)\", fontsize=15)\n",
    "axs.set_ylabel(\"Weight (kg)\", fontsize=15)\n",
    "axs.tick_params(labelsize=10)\n",
    "plt.show()"
   ]
  },
  {
   "cell_type": "markdown",
   "metadata": {},
   "source": [
    "Now, to further describe the relationship between weight and height, we will **fit a simple regression model to our data**. This is done in the cell below. **Run this cell.**\n",
    "\n",
    "<p>\n",
    "<details><summary>Click to show explanation of code in the cell below</summary><br>\n",
    "\n",
    "```python \n",
    "reg_model_1 = OLS(bmx_data[\"BMXWT\"], sm.add_constant(bmx_data[\"BMXHT\"].values)).fit()\n",
    "```\n",
    "- The `OLS.fit()` method fits a linear regression model to supplied x- and y-values. First we supply a list of y-values (`bmx_data[\"BMXWT\"]`).\n",
    "- Then, we pass the list of x-values (`bmx_data[\"BMXHT\"].values`) to the `sm.add_constant()` function (in order to add a constant, $b_0$, to the regression model).\n",
    "- We pass the result of the `sm.add_constant()` function to OLS.\n",
    "- Finally, we call `fit()` to fit the regression line.\n",
    "\n",
    "</details>\n",
    "</p>"
   ]
  },
  {
   "cell_type": "code",
   "execution_count": null,
   "metadata": {},
   "outputs": [],
   "source": [
    "# generate a simple linear regression model\n",
    "\n",
    "# specify x_vals and y_vals\n",
    "\n",
    "x_vals = height_values.values #.values attribute is required by OLS function\n",
    "y_vals = weight_values\n",
    "\n",
    "reg_model_1 = OLS(y_vals, sm.add_constant(x_vals)).fit()"
   ]
  },
  {
   "cell_type": "markdown",
   "metadata": {},
   "source": [
    "We can extract the parameters estimated by the regression model above and use them to add a regression line to our scatter plot. **Run the cell below to do this.**\n",
    "\n",
    "<p>\n",
    "<details><summary>Click to show explanation of code in the cell below</summary><br>\n",
    "\n",
    "- The first block of code below is just the regular scatter plot code.\n",
    "\n",
    "```python\n",
    "x_vals_1 = list(bmx_data[\"BMXHT\"])\n",
    "x_vals_1.sort()\n",
    "x_plot_1 = np.linspace(x_vals_1[0], x_vals_1[-1], len(x_vals_1))\n",
    "```\n",
    "- The above code first creates a list of all x-values (height values) and then sorts this list. The last line of code creates a list of x-values at regular intervals between the smallest and largest x-values.\n",
    "\n",
    "```python\n",
    "b0 = reg_model_1.params[0]\n",
    "b1 = reg_model_1.params[1]\n",
    "plt.plot(x_plot_1, x_plot_1*b1 + b0, color='black')\n",
    "```\n",
    "- Finally, we can add the regression line to the plot. This bit of code will be explained in the next section.\n",
    "\n",
    "</details>\n",
    "</p>"
   ]
  },
  {
   "cell_type": "code",
   "execution_count": null,
   "metadata": {},
   "outputs": [],
   "source": [
    "# create scatter plot of weight vs height\n",
    "fig, axs = plt.subplots(figsize=(10,7))\n",
    "axs.scatter(x_vals, y_vals, c=\"SkyBlue\")\n",
    "plt.title(\"Weight vs Height\", fontsize=20)\n",
    "axs.set_xlabel(\"Height (cm)\", fontsize=15)\n",
    "axs.set_ylabel(\"Weight (kg)\", fontsize=15)\n",
    "axs.tick_params(labelsize=10)\n",
    "\n",
    "# create x-vals for regression line\n",
    "x_vals_1 = list(x_vals)\n",
    "x_vals_1.sort()\n",
    "x_plot_1 = np.linspace(x_vals_1[0], x_vals_1[-1], len(x_vals_1)) \n",
    "\n",
    "# add line to scatter plot\n",
    "b0 = reg_model_1.params[0]\n",
    "b1 = reg_model_1.params[1]\n",
    "plt.plot(x_plot_1, x_plot_1*b1 + b0, color='black')\n",
    "\n",
    "plt.show()"
   ]
  },
  {
   "cell_type": "markdown",
   "metadata": {},
   "source": [
    "So now we have our resulting regression line, which is an estimate of the linear relationship between and individual’s height and weight.\n",
    "\n",
    "## Linear Regression Output Analysis\n",
    "\n",
    "### Task 2\n",
    "\n",
    "Now, let us look at a description of our simple linear regression model fit in the previous section. **Run the cell which prints a summary of the linear regression model.**"
   ]
  },
  {
   "cell_type": "code",
   "execution_count": null,
   "metadata": {},
   "outputs": [],
   "source": [
    "# print a summary of our linear regression model created above\n",
    "# this model is stored in the reg_model_1 variable\n",
    "\n",
    "display(reg_model_1.summary())"
   ]
  },
  {
   "cell_type": "markdown",
   "metadata": {},
   "source": [
    "Our model is characterized by two important values, called parameters: a $b_0$ (the constant) and a $b_1$ (the coefficient). These values are indicated in a screenshot of the output below:\n",
    "![](img/model-output.png)\n",
    "So, the resulting equation for out weight-height regression line is: $\\hat{w}_i = -89.6894 + 0.9965h_i$ (where $w$ is weight and $h$ is height).\n",
    "> A coefficient so close to 1 (0.9965) means that an approximately 1-unit increase in an individual's height is associated with almost a 1-unit increase in weight.\n",
    "\n",
    "To access the values of these important parameters we use the following code:\n",
    "```python\n",
    "b0 = reg_model_1.params[0]\n",
    "b1 = reg_model_1.params[1]\n",
    "```\n",
    "> Then, to plot this regression line characterized by these parameters we use the line of code from the previous section: `plt.plot(x_plot_1, x_plot_1*b1 + b0, color='black')`. We supply the plot() function with (1) a list of x-values over which to draw the line, (2) the equation for the line, (3) a color for the line (optional).\n",
    "\n",
    "Another important value in our regression model output is the *R-squared value* (top value in the right column).\n",
    "> This indicates the percentage of variation in our data that is explained by our model.\n",
    "> In our case, about 64% of the variation in our observed weight values can be explained by height. The rest of the variation in weight values may be explained by some other factor that we have not captured.\n",
    "\n",
    "Now, we can use our regression equation to predict the value of someone's weight given their height. It is best to predict the y-value of an x-value that is within the range of our data. For example, we shouldn't really predict the weight of an individual who is 70cm tall. This would be called extrapolation, and is dangerous because it is not based on any observable data.\n",
    "\n",
    "In our observed data there is an individual with the following measurements:\n",
    "![](img/individual1.png)\n",
    "\n",
    "Let's use the parameters of our linear regression model to see what our model predicts for the weight value of this individual who is 170cm tall.\n",
    "\n",
    "In the next code cell **calculate the predicted weight of an individual with a height of 170cm**."
   ]
  },
  {
   "cell_type": "code",
   "execution_count": null,
   "metadata": {},
   "outputs": [],
   "source": [
    "# calculate the predicted weight of an individual with a height of 170cm\n",
    "# using the regression equation\n",
    "\n",
    "b0 = reg_model_1.params[0]\n",
    "b1 = reg_model_1.params[1]\n",
    "\n",
    "pred_weight = \n",
    "\n",
    "print(\"Predicted weight:\", pred_weight)"
   ]
  },
  {
   "cell_type": "markdown",
   "metadata": {},
   "source": [
    "<p>\n",
    "<details><summary>Click to show answer</summary><br>\n",
    "\n",
    "`Predicted weight: 79.72367707822576`\n",
    "\n",
    "</details>\n",
    "</p>\n",
    "\n",
    "<p>\n",
    "<details><summary>Click to show solution</summary><br>\n",
    "\n",
    "```python\n",
    "pred_weight = b0 + b1*170\n",
    "```\n",
    "\n",
    "</details>\n",
    "</p>\n",
    "\n",
    "Our model predicts 79.79kg to be the weight of this individual. This is somewhat close to our actual value!\n",
    "> There is some difference between our observed and predicted values. This difference is called the residual deviation of our predicted value, and is equal to: $e_i = y_i - \\hat{y}_i = 75.3 - 79.72 = -4.42$\n",
    "\n",
    "The underlying mechanics of linear regression are attempting to choose a line that gets as close to each of the data points as possible by minimizing the *sum of the squared residual deviations*.\n",
    "> We want to minimize this value: $\\sum_{i=1}^n(y_i - \\hat{y}_i)^2$\n",
    "\n",
    "## Multiple Regression Analysis\n",
    "\n",
    "### Task 3\n",
    "\n",
    "So, we know that in our dataset, height explains approximately 64% of the variation in weight. What other factors could explain the variation in weight?\n",
    "\n",
    "Waist circumference is another variable captured in the NHANES dataset, and it is possible that there is some association between an individual’s waist circumference and weight, as well as between height and weight.\n",
    "\n",
    "Modeling the relationship between two or more explanatory variables and one predictor is called *multiple regression*. Again, we will focus on linear relationships.\n",
    "\n",
    "With an additional explanatory variable, our linear regression model will now look like this: $\\hat{y}_i = b_0 + b_1x_{i1} + b_2x_{i2}$\n",
    "\n",
    "Provided in the next cell in the code notebook, is code to create a multiple linear regression model for these variables. **Run the cell.**\n",
    "\n",
    "<p>\n",
    "<details><summary>Click to show explanation of code in the cell below</summary><br>\n",
    "\n",
    "```python \n",
    "X = bmx_data[['BMXHT', 'BMXWAIST']]\n",
    "X = sm.add_constant(X.values)\n",
    "```\n",
    "- This code extracts from the dataset all values in the columns which correspond to our explanatory variables.\n",
    "- Then we add a constant to our x-values so that we include an intercept in our model.\n",
    "\n",
    "```python\n",
    "y = bmx_data['BMXWT']\n",
    "```\n",
    "- This code extracts from the dataset our y-values.\n",
    "\n",
    "```python\n",
    "multiple_reg_model = OLS(y, X).fit()\n",
    "\n",
    "display(multiple_reg_model.summary())\n",
    "```\n",
    "- Then we fit the model and print out a summary of its parameters.\n",
    "\n",
    "</details>\n",
    "</p>"
   ]
  },
  {
   "cell_type": "code",
   "execution_count": null,
   "metadata": {},
   "outputs": [],
   "source": [
    "# generate a multiple linear regression model\n",
    "\n",
    "# extract the x-values (explanatory variables)\n",
    "X = bmx_data[['BMXHT', 'BMXWAIST']]\n",
    "X = sm.add_constant(X.values) #add a constant to both x-variables\n",
    "\n",
    "# extract the y-values (predictor variable)\n",
    "y = bmx_data['BMXWT']\n",
    "\n",
    "# fit the model\n",
    "multiple_reg_model = OLS(y, X).fit()\n",
    "\n",
    "# display a summary description of the model\n",
    "display(multiple_reg_model.summary())"
   ]
  },
  {
   "cell_type": "markdown",
   "metadata": {},
   "source": [
    "The first thing we notice in our multiple linear regression model is that the R-squared value is now 94% (it was 64% without waist circumference as an explanatory variable). With the addition of waist circumference as an explanatory variable, our model is able to explain a lot more of the variation in height.\n",
    "\n",
    "Our model output still provides us with the 3 parameters, which we can access with the following code:\n",
    "```python\n",
    "b0 = multiple_reg_model.params[0]\n",
    "b1 = multiple_reg_model.params[1]\n",
    "b2 = multiple_reg_model.params[2]\n",
    "```\n",
    "\n",
    "Here is the data on our 170cm tall individual again:\n",
    "![](img/individual2.png)\n",
    "\n",
    "This individual's waist circumference is 92.6cm. **Use our multiple linear regression model to estimate the weight of this individual.**"
   ]
  },
  {
   "cell_type": "code",
   "execution_count": null,
   "metadata": {},
   "outputs": [],
   "source": [
    "# calculate the predicted weight of an individual who is\n",
    "# 170cm tall and has waist circumference 92.6cm\n",
    "\n",
    "b0 = multiple_reg_model.params[0]\n",
    "b1 = multiple_reg_model.params[1]\n",
    "b2 = multiple_reg_model.params[2]\n",
    "\n",
    "pred_weight = \n",
    "\n",
    "print(\"Predicted weight:\", pred_weight)"
   ]
  },
  {
   "cell_type": "markdown",
   "metadata": {},
   "source": [
    "<p>\n",
    "<details><summary>Click to show answer</summary><br>\n",
    "\n",
    "Predicted weight: 76.52849876781235\n",
    "\n",
    "</details>\n",
    "</p>\n",
    "\n",
    "<p>\n",
    "<details><summary>Click to show solution</summary><br>\n",
    "\n",
    "```python\n",
    "pred_weight = b0 + b1*170 + b2*92.6\n",
    "```\n",
    "\n",
    "</details>\n",
    "</p>\n",
    "\n",
    "Notice that the predicted weight is now much closer to the observed weight of this individual!"
   ]
  },
  {
   "cell_type": "code",
   "execution_count": null,
   "metadata": {},
   "outputs": [],
   "source": []
  }
 ],
 "metadata": {
  "kernelspec": {
   "display_name": "Python 3",
   "language": "python",
   "name": "python3"
  },
  "language_info": {
   "codemirror_mode": {
    "name": "ipython",
    "version": 3
   },
   "file_extension": ".py",
   "mimetype": "text/x-python",
   "name": "python",
   "nbconvert_exporter": "python",
   "pygments_lexer": "ipython3",
   "version": "3.7.3"
  }
 },
 "nbformat": 4,
 "nbformat_minor": 2
}
