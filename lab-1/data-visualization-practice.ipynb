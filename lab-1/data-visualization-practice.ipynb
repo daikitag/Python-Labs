{
 "cells": [
  {
   "cell_type": "code",
   "execution_count": null,
   "metadata": {},
   "outputs": [],
   "source": [
    "# import modules\n",
    "\n",
    "import pandas as pd\n",
    "import numpy as np\n",
    "from matplotlib import pyplot as plt"
   ]
  },
  {
   "cell_type": "markdown",
   "metadata": {},
   "source": [
    "## Exercise 1: Create a Pie Chart (*Cybersecurity Data*)"
   ]
  },
  {
   "cell_type": "code",
   "execution_count": null,
   "metadata": {},
   "outputs": [],
   "source": [
    "# load dataset\n",
    "\n"
   ]
  },
  {
   "cell_type": "code",
   "execution_count": null,
   "metadata": {},
   "outputs": [],
   "source": [
    "# calculate and print out the total number of respondents for the survey\n",
    "\n"
   ]
  },
  {
   "cell_type": "markdown",
   "metadata": {},
   "source": [
    "<p>\n",
    "<details><summary>Click to show solution</summary><br>\n",
    "\n",
    "```Python\n",
    "cyber_data_info = cyber_data.shape\n",
    "num_rows = cyber_data_info[0]\n",
    "print(\"Num respondents:\", num_rows)\n",
    "```\n",
    "\n",
    "</details>\n",
    "</p>"
   ]
  },
  {
   "cell_type": "code",
   "execution_count": null,
   "metadata": {},
   "outputs": [],
   "source": [
    "# create a list of all unique survey options\n",
    "\n"
   ]
  },
  {
   "cell_type": "markdown",
   "metadata": {},
   "source": [
    "<p>\n",
    "<details><summary>Click to show solution</summary><br>\n",
    "\n",
    "```Python\n",
    "# create a list of all unique survey options\n",
    "survey_options = [1, 2, 3, 4, 8, 9]\n",
    "```\n",
    "\n",
    "</details>\n",
    "</p>"
   ]
  },
  {
   "cell_type": "code",
   "execution_count": null,
   "metadata": {},
   "outputs": [],
   "source": [
    "# determine the number of respondents that voted for each option\n",
    "\n"
   ]
  },
  {
   "cell_type": "markdown",
   "metadata": {},
   "source": [
    "<p>\n",
    "<details><summary>Click to show solution</summary><br>\n",
    "\n",
    "```Python\n",
    "# determine the number of respondents that voted for each option\n",
    "option_response_totals = []\n",
    "for option in survey_options:\n",
    "    subset_df = cyber_data[cyber_data[\"policy4\"] == option]\n",
    "    num_respondents = subset_df.shape[0] #num_rows=num_respondents\n",
    "    option_response_totals.append(num_respondents)\n",
    "```\n",
    "\n",
    "</details>\n",
    "</p>"
   ]
  },
  {
   "cell_type": "code",
   "execution_count": null,
   "metadata": {},
   "outputs": [],
   "source": [
    "# add code below to create plot    \n",
    "\n"
   ]
  },
  {
   "cell_type": "markdown",
   "metadata": {},
   "source": [
    "<p>\n",
    "<details><summary>Click to show solution</summary><br>\n",
    "\n",
    "```Python\n",
    "# add code below to create plot    \n",
    "fig, axs = plt.subplots(figsize=(25,15))\n",
    "\n",
    "piechart = axs.pie(option_response_totals, labels=survey_options, autopct=\"%1.0f%%\", startangle=90)\n",
    "\n",
    "axs.axis(\"equal\") # to ensure we get a circle shape instead of an oval\n",
    "plt.suptitle(\"Poll Results\", fontsize=30)\n",
    "plt.title(\"Opinon on the Government's Preparedness to Protect Against a Cyberattack\", fontsize=20)\n",
    "# change label font sizes\n",
    "for i in range(len(piechart[1])):\n",
    "    piechart[1][i].set_fontsize(16)\n",
    "    piechart[2][i].set_fontsize(16)\n",
    "\n",
    "plt.show()\n",
    "```\n",
    "\n",
    "</details>\n",
    "</p>"
   ]
  },
  {
   "cell_type": "markdown",
   "metadata": {},
   "source": [
    "## Exercise 2: Create a Regular Bar Graph (*2018 Political Survey Data*)"
   ]
  },
  {
   "cell_type": "code",
   "execution_count": null,
   "metadata": {},
   "outputs": [],
   "source": [
    "# load dataset\n",
    "\n"
   ]
  },
  {
   "cell_type": "code",
   "execution_count": null,
   "metadata": {},
   "outputs": [],
   "source": [
    "# create a list of all unique survey options\n",
    "\n"
   ]
  },
  {
   "cell_type": "markdown",
   "metadata": {},
   "source": [
    "<p>\n",
    "<details><summary>Click to show solution</summary><br>\n",
    "\n",
    "```Python\n",
    "# create a list of all unique survey options\n",
    "p_survey_options = [1, 2, 9]\n",
    "```\n",
    "\n",
    "</details>\n",
    "</p>"
   ]
  },
  {
   "cell_type": "code",
   "execution_count": null,
   "metadata": {},
   "outputs": [],
   "source": [
    "# determine the number of respondents that voted for each option\n",
    "\n"
   ]
  },
  {
   "cell_type": "markdown",
   "metadata": {},
   "source": [
    "<p>\n",
    "<details><summary>Click to show solution</summary><br>\n",
    "\n",
    "```Python\n",
    "# determine the number of respondents that voted for each option\n",
    "option_response_totals = []\n",
    "for option in p_survey_options:\n",
    "    subset_df = survey_data[survey_data[\"q73\"] == option]\n",
    "    num_respondents = subset_df.shape[0] #num_rows=num_respondents\n",
    "    option_response_totals.append(num_respondents)\n",
    "```\n",
    "\n",
    "</details>\n",
    "</p>"
   ]
  },
  {
   "cell_type": "code",
   "execution_count": null,
   "metadata": {},
   "outputs": [],
   "source": [
    "response_descr = [\"Protect right to own\", \"Control ownership\", \"Don't know\"]\n",
    "\n",
    "# add code below to create plot \n",
    "\n"
   ]
  },
  {
   "cell_type": "markdown",
   "metadata": {},
   "source": [
    "<p>\n",
    "<details><summary>Click to show solution</summary><br>\n",
    "\n",
    "```Python\n",
    "# add code below to create plot\n",
    "fig, axs = plt.subplots(figsize=(12,8))\n",
    "bargraph = axs.bar(response_descr, option_response_totals)     \n",
    "axs.set_title(\"Gun Ownership Opinions\", fontsize=30)   \n",
    "axs.set_xlabel(\"Answer option\", fontsize=18)\n",
    "axs.set_ylabel(\"Number of responses\", fontsize=18)\n",
    "axs.tick_params(labelsize=16)              \n",
    "plt.show()\n",
    "```\n",
    "\n",
    "</details>\n",
    "</p>"
   ]
  },
  {
   "cell_type": "code",
   "execution_count": null,
   "metadata": {},
   "outputs": [],
   "source": []
  }
 ],
 "metadata": {
  "kernelspec": {
   "display_name": "Python 3",
   "language": "python",
   "name": "python3"
  },
  "language_info": {
   "codemirror_mode": {
    "name": "ipython",
    "version": 3
   },
   "file_extension": ".py",
   "mimetype": "text/x-python",
   "name": "python",
   "nbconvert_exporter": "python",
   "pygments_lexer": "ipython3",
   "version": "3.4.3"
  }
 },
 "nbformat": 4,
 "nbformat_minor": 2
}
