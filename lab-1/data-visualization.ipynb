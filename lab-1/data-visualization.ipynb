{
 "cells": [
  {
   "cell_type": "markdown",
   "metadata": {},
   "source": [
    "### Import packages!"
   ]
  },
  {
   "cell_type": "code",
   "execution_count": null,
   "metadata": {},
   "outputs": [],
   "source": [
    "import pandas as pd\n",
    "import numpy as np\n",
    "from matplotlib import pyplot as plt"
   ]
  },
  {
   "cell_type": "markdown",
   "metadata": {},
   "source": [
    "## Task 1\n",
    "Import the WIC dataset and store the data in a variable called `wic_data`. The full filename for our dataset is `\"datasets/WIC_data.csv\"` because the file is stored in a datasets folder.\n",
    "\n",
    "Then display the first few entries of the dataset."
   ]
  },
  {
   "cell_type": "code",
   "execution_count": null,
   "metadata": {},
   "outputs": [],
   "source": []
  },
  {
   "cell_type": "markdown",
   "metadata": {},
   "source": [
    "## Task 2: Region categories"
   ]
  },
  {
   "cell_type": "code",
   "execution_count": null,
   "metadata": {},
   "outputs": [],
   "source": [
    "# store the unique region names in the \"regions\" variable\n",
    "regions = wic_data[\"REGION\"].unique()\n",
    "\n",
    "# print the number of regions and the names of these regions\n",
    "print(\"There are\", len(regions), \"regions included in this dataset.\")\n",
    "print()\n",
    "print(\"These regions are:\", regions)"
   ]
  },
  {
   "cell_type": "markdown",
   "metadata": {},
   "source": [
    "#### Total up number of enrollees in each region category"
   ]
  },
  {
   "cell_type": "code",
   "execution_count": null,
   "metadata": {},
   "outputs": [],
   "source": [
    "# group the data by \"region\"\n",
    "grouped_wic_data = wic_data.groupby(by=\"REGION\") #1#\n",
    "\n",
    "# total up the number of enrollees in each region category\n",
    "enrollee_totals = {} #this dictionary will store the total number of enrollees for each region\n",
    "\n",
    "for region, region_data in grouped_wic_data: #2#\n",
    "    group_total = 0 #total number of enrollees for the current region grouping\n",
    "    # reset to 0 each time we loop through a new region grouping\n",
    "    \n",
    "    # get all totals for this region across all race groups from the \"Total of all Racial Categories Total\" column\n",
    "    totals = region_data[\"Total of all Racial Categories Total\"] \n",
    "    \n",
    "    # add up all of these total for this region\n",
    "    region_total = sum(totals) #3#\n",
    "    \n",
    "    # add to dictionary\n",
    "    enrollee_totals[region] = region_total\n",
    "\n",
    "# create \"total_per_region\" list\n",
    "total_per_region = [enrollee_totals[r] for r in regions]\n",
    "\n",
    "print(\"Enrollee totals by region:\", enrollee_totals)"
   ]
  },
  {
   "cell_type": "markdown",
   "metadata": {},
   "source": [
    "#### Further code explanation:\n",
    "> - `#1#`: We use the `groupby` function to group the data by \"region\" because each region has multiple entries in the dataset.\n",
    "    - `groupby` is a function that can be applied to `pandas` DataFrames\n",
    "    - We can give it one argument, the name of a column, and the function will group the data according to the distinct values in this column\n",
    "    - `by=\"REGION\"` is how we pass this argument to the function in the code above; we specify that the function should store this argument in the variable `by` because this function can take many arguments so we want it to know exactly what kind of argument we are giving it\n",
    "    - The return value of this function is stored in `grouped_wic_data` which holds, for each region category the name of this region category (`region`) and the subset of the larger dataset that corresponds to this region (`region_data`)\n",
    "> - `#2#`: We loop through each `name, group` pair in `grouped_wic_data` and tally up the total number of enrollees across all race groups.\n",
    "    - We use the `Total of all Racial Categories Total` column in the dataset which captures the total number of enrollees across all race groups for each record in the dataset \n",
    "> - `#3#`: `sum()` is a Python function that obtains the sum of a number of values in a list. Since `group[\"Total of all Racial Categories Total\"]` is the list that corresponds to the \"Total of all Racial Categories Total\" column in the dataset, we can sum all of the values in this list.\n",
    "\n",
    "\n"
   ]
  },
  {
   "cell_type": "markdown",
   "metadata": {},
   "source": [
    "#### Create bar chart"
   ]
  },
  {
   "cell_type": "code",
   "execution_count": null,
   "metadata": {},
   "outputs": [],
   "source": [
    "# the \"regions\" variable we previously created is where our category names are stored\n",
    "# \"total_per_region\" is a list of the enrollee totals by region \n",
    "\n",
    "# create the plot #\n",
    "fig, axs = plt.subplots(figsize=(30,15)) #set up axes\n",
    "bargraph = axs.bar(regions, total_per_region)\n",
    "#regions: x-axis labels, total_per_region: heights for each bar corresponding to enrollee total\n",
    "\n",
    "# plot formatting #\n",
    "axs.set_title(\"Number of Enrollees Per Region\", fontsize=40)\n",
    "axs.tick_params(labelsize=23)\n",
    "axs.set_xlabel(\"Region\", fontsize=35)\n",
    "axs.set_ylabel(\"Number of enrollees\", fontsize=35)\n",
    "\n",
    "# show the plot #\n",
    "plt.show()"
   ]
  },
  {
   "cell_type": "markdown",
   "metadata": {},
   "source": [
    "#### Calculate category percentages"
   ]
  },
  {
   "cell_type": "code",
   "execution_count": null,
   "metadata": {},
   "outputs": [],
   "source": [
    "total_num_enrollees = np.sum(list(enrollee_totals.values()))\n",
    "enroll_percents = [(enrollee_totals[r]/total_num_enrollees)*100 for r in regions]\n",
    "print(\"% of total enrollees for each region:\", enroll_percents)"
   ]
  },
  {
   "cell_type": "markdown",
   "metadata": {},
   "source": [
    "#### Create pie chart"
   ]
  },
  {
   "cell_type": "code",
   "execution_count": null,
   "metadata": {},
   "outputs": [],
   "source": [
    "# create the plot #\n",
    "fig, axs = plt.subplots(figsize=(25,15))  #set up axes\n",
    "piechart = axs.pie(enroll_percents, labels=regions, autopct=\"%1.1f%%\")\n",
    "#enroll_percents: size of each slice, regions: labels for each slice\n",
    "#autopct is an argument that controls how many decimal points to display on the chart\n",
    "\n",
    "# plot formatting #\n",
    "axs.axis(\"equal\") # to ensure we get a circle shape instead of an oval\n",
    "axs.set_title(\"Percentage of Total Enrollees Per Region\", fontsize=40)\n",
    "for i in range(len(piechart[1])): # change label font sizes\n",
    "    piechart[1][i].set_fontsize(18)\n",
    "    piechart[2][i].set_fontsize(18)\n",
    "\n",
    "# show the plot #\n",
    "plt.show()"
   ]
  },
  {
   "cell_type": "markdown",
   "metadata": {},
   "source": [
    "## Task 3: Race categories\n",
    "\n",
    "#### Total up number of enrollees in each race category"
   ]
  },
  {
   "cell_type": "code",
   "execution_count": null,
   "metadata": {},
   "outputs": [],
   "source": [
    "# manually list the race groups\n",
    "race_groups = [\"American Indian\", \"Asian\", \"Black\", \"Hawaiian/Pacific Islander\", \"White\", \"Multiple Race\", \"Race Not Reported\"]\n",
    "\n",
    "enrollee_totals = {}\n",
    "\n",
    "for race in race_groups:\n",
    "\n",
    "    enrollee_totals[race] = sum(wic_data[race + \" Total\"])\n",
    "\n",
    "total_per_race = [enrollee_totals[r] for r in race_groups]\n",
    "\n",
    "print(\"Enrollee totals by race:\", enrollee_totals)"
   ]
  },
  {
   "cell_type": "markdown",
   "metadata": {},
   "source": [
    "#### Create bar chart"
   ]
  },
  {
   "cell_type": "code",
   "execution_count": null,
   "metadata": {},
   "outputs": [],
   "source": [
    "## create the plot ##\n",
    "fig, axs = plt.subplots(figsize=(30,15)) #set up axes\n",
    "bargraph = axs.bar(###, ###)\n",
    "    \n",
    "## plot formatting ##\n",
    "axs.set_title(\"Number of Enrollees Per Race Group\", fontsize=40)\n",
    "axs.tick_params(labelsize=23)\n",
    "axs.set_xlabel(\"###\", fontsize=35)\n",
    "axs.set_ylabel(\"###\", fontsize=35)\n",
    "\n",
    "## show the plot ##\n",
    "plt.show()"
   ]
  },
  {
   "cell_type": "code",
   "execution_count": null,
   "metadata": {},
   "outputs": [],
   "source": []
  }
 ],
 "metadata": {
  "kernelspec": {
   "display_name": "Python 3",
   "language": "python",
   "name": "python3"
  },
  "language_info": {
   "codemirror_mode": {
    "name": "ipython",
    "version": 3
   },
   "file_extension": ".py",
   "mimetype": "text/x-python",
   "name": "python",
   "nbconvert_exporter": "python",
   "pygments_lexer": "ipython3",
   "version": "3.4.3"
  }
 },
 "nbformat": 4,
 "nbformat_minor": 2
}
