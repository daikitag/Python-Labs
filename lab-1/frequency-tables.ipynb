{
 "cells": [
  {
   "cell_type": "markdown",
   "metadata": {},
   "source": [
    "### Import packages and data!"
   ]
  },
  {
   "cell_type": "code",
   "execution_count": null,
   "metadata": {},
   "outputs": [],
   "source": [
    "import pandas as pd\n",
    "import numpy as np\n",
    "from matplotlib import pyplot as plt\n",
    "\n",
    "# re-import our WIC dataset\n",
    "wic_data = pd.read_csv(\"datasets/WIC_data.csv\")\n",
    "display(wic_data.head())"
   ]
  },
  {
   "cell_type": "markdown",
   "metadata": {},
   "source": [
    "### Task 1: Create a one-way frequency table"
   ]
  },
  {
   "cell_type": "code",
   "execution_count": null,
   "metadata": {},
   "outputs": [],
   "source": [
    "# create a dataframe with two columns\n",
    "freq_table_one = pd.DataFrame(columns=[\"Region\", \"Total number of program enrollees\"])\n",
    "i = 0 #indexer for our frequency table\n",
    "\n",
    "# like before, group the data by region\n",
    "grouped_wic_data = wic_data.groupby(by=\"REGION\")\n",
    "\n",
    "# loop over all regions and compute the enrollee totals\n",
    "for region, region_data in grouped_wic_data:\n",
    "\n",
    "    # get all totals for this region across all race groups from the \"Total of all Racial Categories Total\" column\n",
    "    totals = region_data[\"Total of all Racial Categories Total\"] \n",
    "    \n",
    "    # add up all of these total for this region\n",
    "    region_total = sum(totals)\n",
    "    \n",
    "    # add the region and this total to our frequency table\n",
    "    freq_table_one.loc[i, :] = [region, region_total]\n",
    "    i += 1 #increment indexer so it we are ready to add a new item to our dataframe\n",
    "\n",
    "# set the index of our frequency table to \"Region\"\n",
    "freq_table_one = freq_table_one.set_index(\"Region\")\n",
    "display(freq_table_one)    "
   ]
  },
  {
   "cell_type": "markdown",
   "metadata": {},
   "source": [
    "### Task 2: Create a two-way frequency table"
   ]
  },
  {
   "cell_type": "code",
   "execution_count": null,
   "metadata": {},
   "outputs": [],
   "source": [
    "race_groups = [\"Asian\", \"Black\"] #our race groups of interest\n",
    "\n",
    "# create a dataframe with one column for \"region\" and a column for each race group of interest\n",
    "freq_table_two = pd.DataFrame(columns=[\"Region\", \"Asian Total\", \"Black Total\"])\n",
    "i = 0\n",
    "\n",
    "grouped_wic_data = wic_data.groupby(by=\"REGION\")\n",
    "\n",
    "# loop through all regions\n",
    "for region, region_data in grouped_wic_data:\n",
    "    \n",
    "    region_totals = []\n",
    "    \n",
    "    # compute the total number of enrollees for each race for this region\n",
    "    for race in race_groups:\n",
    "        race_total = sum(region_data[race + \" Total\"])\n",
    "        region_totals.append(race_total)\n",
    "    \n",
    "    # add the race group totals for this region to the frequency table\n",
    "    freq_table_two.loc[i, :] = [region] + region_totals\n",
    "    i += 1\n",
    "\n",
    "freq_table_two = freq_table_two.set_index(\"Region\")\n",
    "display(freq_table_two)"
   ]
  },
  {
   "cell_type": "markdown",
   "metadata": {},
   "source": [
    "### Task 3\n",
    "\n",
    "#### Save the region category names in a list"
   ]
  },
  {
   "cell_type": "code",
   "execution_count": null,
   "metadata": {},
   "outputs": [],
   "source": [
    "region_names = list(freq_table_two.index)\n",
    "print(region_names)"
   ]
  },
  {
   "cell_type": "markdown",
   "metadata": {},
   "source": [
    "#### Calculate category percentages"
   ]
  },
  {
   "cell_type": "code",
   "execution_count": null,
   "metadata": {},
   "outputs": [],
   "source": [
    "total_asian = np.sum(list(freq_table_two['Asian Total']))\n",
    "asian_percents = [(freq_table_two.loc[r, 'Asian Total']/total_asian)*100 for r in region_names]\n",
    "\n",
    "total_black = np.sum(list(freq_table_two['Black Total']))\n",
    "black_percents = [(freq_table_two.loc[r, 'Black Total']/total_black)*100 for r in region_names]"
   ]
  },
  {
   "cell_type": "markdown",
   "metadata": {},
   "source": [
    "#### Create comparitive pie chart"
   ]
  },
  {
   "cell_type": "code",
   "execution_count": null,
   "metadata": {},
   "outputs": [],
   "source": [
    "fig, (ax1, ax2) = plt.subplots(1, 2, figsize=(30,15))\n",
    "\n",
    "piechart1 = ax1.pie(asian_percents, labels=region_names, autopct=\"%1.1f%%\")\n",
    "ax1.axis(\"equal\") # to ensure we get a circle shape instead of an oval\n",
    "ax1.set_title(\"Percentage of Total Asian Enrollees Per Region\", fontsize=30)\n",
    "# change label font sizes\n",
    "for i in range(len(piechart1[1])):\n",
    "    piechart1[1][i].set_fontsize(18)\n",
    "    piechart1[2][i].set_fontsize(18)\n",
    "    \n",
    "piechart2 = ax2.pie(black_percents, labels=region_names, autopct=\"%1.1f%%\")\n",
    "ax2.axis(\"equal\") # to ensure we get a circle shape instead of an oval\n",
    "ax2.set_title(\"Percentage of Total Black Enrollees Per Region\", fontsize=30)\n",
    "# change label font sizes\n",
    "for i in range(len(piechart2[1])):\n",
    "    piechart2[1][i].set_fontsize(18)\n",
    "    piechart2[2][i].set_fontsize(18)\n",
    "    \n",
    "plt.show()"
   ]
  },
  {
   "cell_type": "code",
   "execution_count": null,
   "metadata": {},
   "outputs": [],
   "source": []
  }
 ],
 "metadata": {
  "kernelspec": {
   "display_name": "Python 3",
   "language": "python",
   "name": "python3"
  },
  "language_info": {
   "codemirror_mode": {
    "name": "ipython",
    "version": 3
   },
   "file_extension": ".py",
   "mimetype": "text/x-python",
   "name": "python",
   "nbconvert_exporter": "python",
   "pygments_lexer": "ipython3",
   "version": "3.4.3"
  }
 },
 "nbformat": 4,
 "nbformat_minor": 2
}
