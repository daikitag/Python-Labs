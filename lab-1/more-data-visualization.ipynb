{
 "cells": [
  {
   "cell_type": "markdown",
   "metadata": {},
   "source": [
    "### Import packages!"
   ]
  },
  {
   "cell_type": "code",
   "execution_count": null,
   "metadata": {},
   "outputs": [],
   "source": [
    "import pandas as pd\n",
    "import numpy as np\n",
    "from matplotlib import pyplot as plt"
   ]
  },
  {
   "cell_type": "markdown",
   "metadata": {},
   "source": [
    "## Task 1"
   ]
  },
  {
   "cell_type": "code",
   "execution_count": null,
   "metadata": {},
   "outputs": [],
   "source": []
  },
  {
   "cell_type": "markdown",
   "metadata": {},
   "source": [
    "## Task 2"
   ]
  },
  {
   "cell_type": "code",
   "execution_count": null,
   "metadata": {},
   "outputs": [],
   "source": [
    "# create the dataframe\n",
    "health_freq_table = pd.DataFrame()\n",
    "\n",
    "# get the statistics for African Americans/Blacks (stored at index 1)\n",
    "all_black_data = health_data.loc[1, :]\n",
    "\n",
    "# get the statistics for Asians/Pacific Islanders (stored at index 3)\n",
    "all_asian_data = health_data.loc[3, :]\n",
    "\n",
    "# populate our dataframe\n",
    "# set the values of column 1\n",
    "health_freq_table[\"Race & Ethnicity\"] = [\"African Americans/Blacks\", \"Asians/Pacific Islanders\"]\n",
    "# set the values of column 2\n",
    "health_freq_table[\"Percent of population living below poverty\"] = [all_black_data[\"Percent of population living below poverty\"], all_asian_data[\"Percent of population living below poverty\"]]\n",
    "# set the values of column 3\n",
    "health_freq_table[\"No health insurance\"] = [all_black_data[\"No health insurance\"], all_asian_data[\"No health insurance\"]]\n",
    "\n",
    "health_freq_table = health_freq_table.set_index(\"Race & Ethnicity\")\n",
    "display(health_freq_table)"
   ]
  },
  {
   "cell_type": "markdown",
   "metadata": {},
   "source": [
    "## Task 3"
   ]
  },
  {
   "cell_type": "code",
   "execution_count": null,
   "metadata": {},
   "outputs": [],
   "source": [
    "black_data = health_freq_table.loc[\"African Americans/Blacks\", :]\n",
    "asian_data = health_freq_table.loc[\"Asians/Pacific Islanders\", :]\n",
    "\n",
    "fig, ax = plt.subplots(figsize=(10,8))\n",
    "\n",
    "# bar 1 for the African Americans/Blacks data\n",
    "p1 = plt.bar([1, 2], black_data, width=0.3)\n",
    "#the first argument specifies the positions of the bars\n",
    "\n",
    "# bar 2 for the Asians/Pacific Islanders data\n",
    "p2 = plt.bar([1, 2], asian_data, width=0.3, bottom=black_data)\n",
    "# the \"bottom\" argument specifies that the second stacked bar starts where the first stacked bar ends\n",
    "\n",
    "plt.ylabel(\"Percentage of population\", fontsize=22)\n",
    "plt.title(\"Colorado: Racial Disparities\", fontsize=30)\n",
    "plt.xticks([1, 2], (\"% below poverty\", \"% no health insurance\"), fontsize=22)\n",
    "plt.legend((p1[0], p2[0]), (\"African Americans/Blacks\", \"Asians/Pacific Islanders\"), fontsize=18)\n",
    "\n",
    "plt.show()"
   ]
  },
  {
   "cell_type": "markdown",
   "metadata": {},
   "source": [
    "*According to this segmented bar graph, the racial disparity between Black and Asian Coloradans is much greater in terms of poverty than it is for access to health insurance*."
   ]
  },
  {
   "cell_type": "code",
   "execution_count": null,
   "metadata": {},
   "outputs": [],
   "source": []
  }
 ],
 "metadata": {
  "kernelspec": {
   "display_name": "Python 3",
   "language": "python",
   "name": "python3"
  },
  "language_info": {
   "codemirror_mode": {
    "name": "ipython",
    "version": 3
   },
   "file_extension": ".py",
   "mimetype": "text/x-python",
   "name": "python",
   "nbconvert_exporter": "python",
   "pygments_lexer": "ipython3",
   "version": "3.4.3"
  }
 },
 "nbformat": 4,
 "nbformat_minor": 2
}
