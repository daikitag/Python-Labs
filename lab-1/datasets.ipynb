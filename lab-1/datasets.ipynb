{
 "cells": [
  {
   "cell_type": "markdown",
   "metadata": {},
   "source": [
    "## Datasets in Python"
   ]
  },
  {
   "cell_type": "markdown",
   "metadata": {},
   "source": [
    "#### First we must import the packages required for the code we will be writing!\n",
    "\n",
    "Run the cell below to do this."
   ]
  },
  {
   "cell_type": "code",
   "execution_count": 1,
   "metadata": {},
   "outputs": [],
   "source": [
    "import pandas as pd\n",
    "import numpy as np"
   ]
  },
  {
   "cell_type": "markdown",
   "metadata": {},
   "source": [
    "### Task 1\n",
    "\n",
    "Below, we will read in the dataset \"simple_data_file.csv\". Because this dataset is stored in the \"datasets\" folder, the  file path (full file name) for this dataset is: `\"datasets/simple_data_file.csv\"`.\n",
    "\n",
    "We will store our dataset in a DataFrame variable called `simple_data` and then display the entire DataFrame.\n",
    "\n",
    "*Use the template code provided in the guide on the left to do this.*"
   ]
  },
  {
   "cell_type": "code",
   "execution_count": null,
   "metadata": {},
   "outputs": [],
   "source": []
  },
  {
   "cell_type": "markdown",
   "metadata": {},
   "source": [
    "### Task 2\n",
    "\n",
    "Run the cells below to try out the different ways of viewing the data in our DataFrame."
   ]
  },
  {
   "cell_type": "code",
   "execution_count": null,
   "metadata": {},
   "outputs": [],
   "source": [
    "# Print out the shape of simple_data\n",
    "\n",
    "print(simple_data.shape)"
   ]
  },
  {
   "cell_type": "code",
   "execution_count": null,
   "metadata": {
    "scrolled": true
   },
   "outputs": [],
   "source": [
    "# Print out the list of column names for simple_data\n",
    "\n",
    "print(simple_data.columns)"
   ]
  },
  {
   "cell_type": "code",
   "execution_count": null,
   "metadata": {
    "scrolled": true
   },
   "outputs": [],
   "source": [
    "# Make the \"id\" column the new index column\n",
    "# Display dataset with new index column\n",
    "\n",
    "simple_data = simple_data.set_index(keys=[\"id\"])\n",
    "display(simple_data)"
   ]
  },
  {
   "cell_type": "code",
   "execution_count": null,
   "metadata": {
    "scrolled": true
   },
   "outputs": [],
   "source": [
    "# Use the \"score3\" column to sort the dataset entries (in descending order)\n",
    "x\n",
    "simple_data = simple_data.sort_values(by=[\"score3\"], ascending=False)\n",
    "display(simple_data)"
   ]
  },
  {
   "cell_type": "markdown",
   "metadata": {},
   "source": [
    "### Task 3\n",
    "\n",
    "Run the cells below to try out the different ways of accessing specific items in our DataFrame."
   ]
  },
  {
   "cell_type": "code",
   "execution_count": null,
   "metadata": {},
   "outputs": [],
   "source": [
    "# Print out the values in the \"score2\" column of simple_data\n",
    "\n",
    "print(simple_data[\"score2\"])"
   ]
  },
  {
   "cell_type": "code",
   "execution_count": null,
   "metadata": {},
   "outputs": [],
   "source": [
    "# Print out the values associated with the \"aa3\" entry\n",
    "\n",
    "print(simple_data.loc[\"aa3\"])"
   ]
  },
  {
   "cell_type": "code",
   "execution_count": null,
   "metadata": {},
   "outputs": [],
   "source": [
    "# Print out score1 for the entry with id \"aa2\"\n",
    "\n",
    "print(simple_data.loc[\"aa2\", \"score1\"])"
   ]
  },
  {
   "cell_type": "code",
   "execution_count": null,
   "metadata": {},
   "outputs": [],
   "source": [
    "# Display the DataFrame consisting of values from the first 3 rows and first 2 columns of simple_data\n",
    "\n",
    "display(simple_data.iloc[0:3, 0:2])"
   ]
  },
  {
   "cell_type": "markdown",
   "metadata": {},
   "source": [
    "### Task 4\n",
    "\n",
    "Run the cells below to try out the different ways of adding, changing and deleting items in our DataFrame."
   ]
  },
  {
   "cell_type": "code",
   "execution_count": null,
   "metadata": {},
   "outputs": [],
   "source": [
    "# Add a column called \"score4\" and fill it with 5 random scores\n",
    "\n",
    "simple_data[\"score4\"] = [3, 5, 98, 1, 2]\n",
    "\n",
    "display(simple_data)"
   ]
  },
  {
   "cell_type": "code",
   "execution_count": null,
   "metadata": {},
   "outputs": [],
   "source": [
    "# Add a row associated with the ID \"aa6\" and fill it with 4 random scores\n",
    "\n",
    "simple_data.loc[\"aa6\"] = [67, 87, 99, 90]\n",
    "\n",
    "display(simple_data)"
   ]
  },
  {
   "cell_type": "markdown",
   "metadata": {},
   "source": [
    "Run the cell below to see what happens when we add a new row but only populate it with a value for *one* of the columns. The rest of the values for the new row will be ***`NaN`*** values (which is a special value that means \"Not a Number\" and generally indicates a missing value)."
   ]
  },
  {
   "cell_type": "code",
   "execution_count": null,
   "metadata": {},
   "outputs": [],
   "source": [
    "simple_data.loc[\"aa7\", \"score3\"] = 67\n",
    "display(simple_data)"
   ]
  },
  {
   "cell_type": "code",
   "execution_count": null,
   "metadata": {},
   "outputs": [],
   "source": [
    "# Change the value of score2 for the entry associated with ID \"aa7\" to a random number\n",
    "\n",
    "simple_data.loc[\"aa7\", \"score2\"] = 89\n",
    "\n",
    "display(simple_data)"
   ]
  },
  {
   "cell_type": "code",
   "execution_count": null,
   "metadata": {},
   "outputs": [],
   "source": [
    "# Remove the row associated with the ID \"aa3\"\n",
    "\n",
    "simple_data = simple_data.drop(\"aa3\")\n",
    "\n",
    "display(simple_data)"
   ]
  },
  {
   "cell_type": "code",
   "execution_count": null,
   "metadata": {},
   "outputs": [],
   "source": [
    "# Remove the \"score2\" column\n",
    "\n",
    "simple_data = simple_data.drop(\"score2\", axis=1)\n",
    "\n",
    "display(simple_data)"
   ]
  },
  {
   "cell_type": "code",
   "execution_count": null,
   "metadata": {},
   "outputs": [],
   "source": []
  }
 ],
 "metadata": {
  "kernelspec": {
   "display_name": "Python 3",
   "language": "python",
   "name": "python3"
  },
  "language_info": {
   "codemirror_mode": {
    "name": "ipython",
    "version": 3
   },
   "file_extension": ".py",
   "mimetype": "text/x-python",
   "name": "python",
   "nbconvert_exporter": "python",
   "pygments_lexer": "ipython3",
   "version": "3.4.3"
  }
 },
 "nbformat": 4,
 "nbformat_minor": 2
}
