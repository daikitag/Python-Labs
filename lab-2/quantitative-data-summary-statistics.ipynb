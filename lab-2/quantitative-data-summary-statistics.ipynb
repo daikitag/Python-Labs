{
 "cells": [
  {
   "cell_type": "markdown",
   "metadata": {},
   "source": [
    "### First import necessary packages by running the cell below!"
   ]
  },
  {
   "cell_type": "code",
   "execution_count": 1,
   "metadata": {},
   "outputs": [],
   "source": [
    "## import modules\n",
    "\n",
    "import pandas as pd\n",
    "import numpy as np\n",
    "from matplotlib import pyplot as plt"
   ]
  },
  {
   "cell_type": "markdown",
   "metadata": {},
   "source": [
    "## Task 1: Import demographic data dataset"
   ]
  },
  {
   "cell_type": "markdown",
   "metadata": {},
   "source": [
    "## Task 2: Get basic information about our dataset"
   ]
  },
  {
   "cell_type": "code",
   "execution_count": 5,
   "metadata": {
    "scrolled": true
   },
   "outputs": [
    {
     "data": {
      "text/plain": [
       "0       22\n",
       "1        3\n",
       "2       14\n",
       "3       44\n",
       "4       14\n",
       "5        9\n",
       "6        0\n",
       "7        6\n",
       "8       21\n",
       "9       15\n",
       "10      14\n",
       "11      43\n",
       "12       2\n",
       "13      80\n",
       "14       5\n",
       "15      34\n",
       "16      51\n",
       "17      80\n",
       "18      55\n",
       "19      35\n",
       "20       9\n",
       "21      75\n",
       "22       6\n",
       "23      26\n",
       "24      16\n",
       "25      17\n",
       "26       9\n",
       "27       2\n",
       "28      30\n",
       "29      15\n",
       "        ..\n",
       "9726    68\n",
       "9727    67\n",
       "9728     5\n",
       "9729    31\n",
       "9730    54\n",
       "9731     0\n",
       "9732     3\n",
       "9733    11\n",
       "9734    31\n",
       "9735     4\n",
       "9736    68\n",
       "9737    65\n",
       "9738     3\n",
       "9739    26\n",
       "9740    48\n",
       "9741    67\n",
       "9742     6\n",
       "9743    30\n",
       "9744     8\n",
       "9745     4\n",
       "9746    80\n",
       "9747    66\n",
       "9748    28\n",
       "9749     0\n",
       "9750    27\n",
       "9751    40\n",
       "9752    18\n",
       "9753    10\n",
       "9754    60\n",
       "9755    16\n",
       "Name: RIDAGEYR, Length: 9756, dtype: int64"
      ]
     },
     "execution_count": 5,
     "metadata": {},
     "output_type": "execute_result"
    }
   ],
   "source": [
    "demo_data[\"RIDAGEYR\"]"
   ]
  },
  {
   "cell_type": "code",
   "execution_count": 6,
   "metadata": {},
   "outputs": [],
   "source": [
    "demo_data_info = demo_data.shape\n",
    "num_rows = demo_data_info[0]\n",
    "num_columns = demo_data_info[1]\n",
    "column_names =demo_data.columns"
   ]
  },
  {
   "cell_type": "code",
   "execution_count": 7,
   "metadata": {},
   "outputs": [
    {
     "name": "stdout",
     "output_type": "stream",
     "text": [
      "Number of rows/records: 9756\n",
      "Number of columns: 41\n",
      "Column names: Index(['SEQN', 'SDDSRVYR', 'RIDSTATR', 'RIAGENDR', 'RIDAGEYR', 'RIDRETH1',\n",
      "       'RIDRETH3', 'RIDEXMON', 'DMQMILIZ', 'DMDBORN4', 'DMDCITZN', 'DMDEDUC2',\n",
      "       'DMDMARTL', 'SIALANG', 'SIAPROXY', 'SIAINTRP', 'FIALANG', 'FIAPROXY',\n",
      "       'FIAINTRP', 'MIALANG', 'MIAPROXY', 'MIAINTRP', 'AIALANGA', 'WTINT2YR',\n",
      "       'WTMEC2YR', 'SDMVPSU', 'SDMVSTRA', 'INDHHIN2', 'INDFMIN2', 'INDFMPIR',\n",
      "       'DMDHHSIZ', 'DMDFMSIZ', 'DMDHHSZA', 'DMDHHSZB', 'DMDHHSZE', 'DMDHRGND',\n",
      "       'DMDHRAGE', 'DMDHRBR4', 'DMDHREDU', 'DMDHRMAR', 'DMDHSEDU'],\n",
      "      dtype='object')\n"
     ]
    }
   ],
   "source": [
    "print(\"Number of rows/records:\", num_rows)\n",
    "print(\"Number of columns:\", num_columns)\n",
    "print(\"Column names:\", column_names)\n",
    "\n",
    "### Quick note on the print() function:\n",
    "# In the print statements above we give print() 2 arguments,\n",
    "# a string and a variable, separated by commas. The print()\n",
    "# function will print out the string first, then a space,\n",
    "# followed by the value stored in the variable.\n",
    "\n",
    "### The print() function can take any number of\n",
    "### comma-separated arguments!"
   ]
  },
  {
   "cell_type": "markdown",
   "metadata": {},
   "source": [
    "## Task 3: Example of using some `numpy` summary statistic functions"
   ]
  },
  {
   "cell_type": "code",
   "execution_count": 8,
   "metadata": {},
   "outputs": [
    {
     "name": "stdout",
     "output_type": "stream",
     "text": [
      "37.1, 33.0, 24.582310713193745, 12, 98\n"
     ]
    }
   ],
   "source": [
    "my_list = [45, 32, 12, 12, 98, 13, 34, 38, 56, 31]\n",
    "list_mean = np.mean(my_list)\n",
    "list_median = np.median(my_list)\n",
    "list_std = np.std(my_list)\n",
    "list_min = np.min(my_list)\n",
    "list_max = np.max(my_list)\n",
    "\n",
    "print(list_mean, list_median, list_std, list_min, list_max, sep=\", \")\n",
    "# This is a formatted print statement that prints out the values\n",
    "# stored in the variables and separates them with commas."
   ]
  },
  {
   "cell_type": "markdown",
   "metadata": {},
   "source": [
    "## Task 4: Mean, median, standard deviation, minimum and maximum"
   ]
  },
  {
   "cell_type": "code",
   "execution_count": 13,
   "metadata": {},
   "outputs": [],
   "source": [
    "## store the values in the RIDAGEYR column in a variable\n",
    "ages = demo_data[\"RIDAGEYR\"]\n",
    "\n",
    "## compute the mean, median, standard deviation, minimum and maximum\n",
    "age_mean = np.mean(ages)\n",
    "age_median = np.median(ages)\n",
    "age_std = np.std(ages)\n",
    "age_min = np.min(ages)\n",
    "age_max = np.max(ages)"
   ]
  },
  {
   "cell_type": "code",
   "execution_count": 14,
   "metadata": {},
   "outputs": [
    {
     "name": "stdout",
     "output_type": "stream",
     "text": [
      "Mean age: 31.40262402624026\n",
      "Median age: 26.0\n",
      "Age standard deviation: 24.577730390800262\n",
      "Min age: 0\n",
      "Max age: 80\n"
     ]
    }
   ],
   "source": [
    "print(\"Mean age:\", age_mean)\n",
    "print(\"Median age:\", age_median)\n",
    "print(\"Age standard deviation:\", age_std)\n",
    "print(\"Min age:\", age_min)\n",
    "print(\"Max age:\", age_max)"
   ]
  },
  {
   "cell_type": "code",
   "execution_count": 11,
   "metadata": {},
   "outputs": [],
   "source": [
    "## store the values in the RIDAGEYR column in a variable\n",
    "ages = demo_data[\"DMDHRAGE\"]\n",
    "\n",
    "## compute the mean, median, standard deviation, minimum and maximum\n",
    "age_mean = np.mean(ages)\n",
    "age_median = np.median(ages)\n",
    "age_std = np.std(ages)\n",
    "age_min = np.min(ages)\n",
    "age_max = np.max(ages)"
   ]
  },
  {
   "cell_type": "code",
   "execution_count": 12,
   "metadata": {},
   "outputs": [
    {
     "name": "stdout",
     "output_type": "stream",
     "text": [
      "Mean age: 45.390631406314064\n",
      "Median age: 43.0\n",
      "Age standard deviation: 15.86711390843867\n",
      "Min age: 18\n",
      "Max age: 80\n"
     ]
    }
   ],
   "source": [
    "print(\"Mean age:\", age_mean)\n",
    "print(\"Median age:\", age_median)\n",
    "print(\"Age standard deviation:\", age_std)\n",
    "print(\"Min age:\", age_min)\n",
    "print(\"Max age:\", age_max)"
   ]
  },
  {
   "cell_type": "markdown",
   "metadata": {},
   "source": [
    "## Task 5: Interquartile range"
   ]
  },
  {
   "cell_type": "code",
   "execution_count": 5,
   "metadata": {},
   "outputs": [],
   "source": [
    "## compute the 25th percentile (first quartile)\n",
    "## and the 75th percentile (third quartile)\n",
    "ages = demo_data[\"RIDAGEYR\"]\n",
    "\n",
    "lower = np.percentile(ages, 25)\n",
    "upper = np.percentile(ages, 75)\n"
   ]
  },
  {
   "cell_type": "markdown",
   "metadata": {},
   "source": [
    "## Task 6: Five number summary"
   ]
  },
  {
   "cell_type": "code",
   "execution_count": null,
   "metadata": {},
   "outputs": [],
   "source": [
    "## add the five number summary statistics to the list\n",
    "age_fivenumsum = []\n",
    "\n",
    "print(\"Age five-number summary:\", age_fivenumsum)"
   ]
  },
  {
   "cell_type": "code",
   "execution_count": null,
   "metadata": {},
   "outputs": [],
   "source": []
  }
 ],
 "metadata": {
  "kernelspec": {
   "display_name": "Python 3",
   "language": "python",
   "name": "python3"
  },
  "language_info": {
   "codemirror_mode": {
    "name": "ipython",
    "version": 3
   },
   "file_extension": ".py",
   "mimetype": "text/x-python",
   "name": "python",
   "nbconvert_exporter": "python",
   "pygments_lexer": "ipython3",
   "version": "3.4.3"
  }
 },
 "nbformat": 4,
 "nbformat_minor": 2
}
