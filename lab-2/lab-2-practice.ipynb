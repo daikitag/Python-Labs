{
 "cells": [
  {
   "cell_type": "markdown",
   "metadata": {},
   "source": [
    "### Import packages"
   ]
  },
  {
   "cell_type": "code",
   "execution_count": null,
   "metadata": {},
   "outputs": [],
   "source": [
    "## import packages\n",
    "\n",
    "import pandas as pd\n",
    "import numpy as np\n",
    "from matplotlib import pyplot as plt"
   ]
  },
  {
   "cell_type": "markdown",
   "metadata": {},
   "source": [
    "## Task 1: Import dataset"
   ]
  },
  {
   "cell_type": "code",
   "execution_count": null,
   "metadata": {},
   "outputs": [],
   "source": [
    "## load and display dataset\n",
    "\n"
   ]
  },
  {
   "cell_type": "code",
   "execution_count": null,
   "metadata": {},
   "outputs": [],
   "source": [
    "## print out the dataset shape and column names\n",
    "\n"
   ]
  },
  {
   "cell_type": "markdown",
   "metadata": {},
   "source": [
    "## Task 2: Summary statistics for a quantitative variable"
   ]
  },
  {
   "cell_type": "code",
   "execution_count": null,
   "metadata": {},
   "outputs": [],
   "source": [
    "## store the values in the \"Life Expectancy at Birth (years)\" column in a variable\n",
    "\n",
    "le_values = \n",
    "\n",
    "## compute the mean, median, standard deviation, minimum and maximum\n",
    "\n",
    "le_mean = \n",
    "le_median = \n",
    "le_std = \n",
    "le_min = \n",
    "le_max = \n",
    "\n",
    "## print out these values\n",
    "print(le_mean, le_median, le_std, le_min, le_max, sep=\", \")"
   ]
  },
  {
   "cell_type": "markdown",
   "metadata": {},
   "source": [
    "## Task 3: Histogram"
   ]
  },
  {
   "cell_type": "code",
   "execution_count": null,
   "metadata": {},
   "outputs": [],
   "source": [
    "## copy and paste the histogram code here\n",
    "## replace value_list with your list of life exp. values\n",
    "## give the plot an appropriate plot title and axes labels\n",
    "\n"
   ]
  },
  {
   "cell_type": "markdown",
   "metadata": {},
   "source": [
    "## Task 4: Box plot"
   ]
  },
  {
   "cell_type": "code",
   "execution_count": null,
   "metadata": {},
   "outputs": [],
   "source": [
    "## store the values in the \"Homeless (% of population)\" column in a variable\n",
    "\n",
    "homeless_values = \n",
    "\n",
    "## copy and paste the box plot code here\n",
    "## replace value_list with your list of homelessness values\n",
    "## give the plot an appropriate plot title and axes labels\n",
    "\n"
   ]
  },
  {
   "cell_type": "markdown",
   "metadata": {},
   "source": [
    "## Challenge Task 5: Comparative box plot"
   ]
  },
  {
   "cell_type": "code",
   "execution_count": null,
   "metadata": {},
   "outputs": [],
   "source": [
    "## store the values in the \"School Enrollment (%)\" column in a variable\n",
    "enroll_values = \n",
    "\n",
    "## determine the mean of these values\n",
    "enroll_mean = \n",
    "\n",
    "print(\"Mean school enrollment percentage:\", grad_degree_mean)"
   ]
  },
  {
   "cell_type": "code",
   "execution_count": null,
   "metadata": {},
   "outputs": [],
   "source": [
    "## split the datasets into group1_moa and group2_moa\n",
    "\n",
    "group1_moa = \n",
    "group2_moa = "
   ]
  },
  {
   "cell_type": "code",
   "execution_count": null,
   "metadata": {},
   "outputs": [],
   "source": [
    "## store the \"Homeless (% of population)\" values\n",
    "## for each dataset in a separate variable\n",
    "\n",
    "group1_homeless = \n",
    "group2_homeless ="
   ]
  },
  {
   "cell_type": "code",
   "execution_count": null,
   "metadata": {},
   "outputs": [],
   "source": [
    "## create a comparative box plot\n",
    "\n"
   ]
  }
 ],
 "metadata": {
  "kernelspec": {
   "display_name": "Python 3",
   "language": "python",
   "name": "python3"
  },
  "language_info": {
   "codemirror_mode": {
    "name": "ipython",
    "version": 3
   },
   "file_extension": ".py",
   "mimetype": "text/x-python",
   "name": "python",
   "nbconvert_exporter": "python",
   "pygments_lexer": "ipython3",
   "version": "3.4.3"
  }
 },
 "nbformat": 4,
 "nbformat_minor": 2
}
