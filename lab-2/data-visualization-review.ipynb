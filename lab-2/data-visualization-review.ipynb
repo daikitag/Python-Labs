{
 "cells": [
  {
   "cell_type": "markdown",
   "metadata": {},
   "source": [
    "### Import dataset and packages"
   ]
  },
  {
   "cell_type": "code",
   "execution_count": 3,
   "metadata": {},
   "outputs": [
    {
     "data": {
      "text/html": [
       "<div>\n",
       "<style>\n",
       "    .dataframe thead tr:only-child th {\n",
       "        text-align: right;\n",
       "    }\n",
       "\n",
       "    .dataframe thead th {\n",
       "        text-align: left;\n",
       "    }\n",
       "\n",
       "    .dataframe tbody tr th {\n",
       "        vertical-align: top;\n",
       "    }\n",
       "</style>\n",
       "<table border=\"1\" class=\"dataframe\">\n",
       "  <thead>\n",
       "    <tr style=\"text-align: right;\">\n",
       "      <th></th>\n",
       "      <th>How would you describe your general health? (excellent, very good, good, fair, poor, don't know)</th>\n",
       "      <th>Alcohol and other drug use</th>\n",
       "      <th>Cold/Flu/Sore throat</th>\n",
       "      <th>Depression/Anxiety</th>\n",
       "      <th>Eating disorders</th>\n",
       "      <th>Grief and loss</th>\n",
       "      <th>How to help others in distress</th>\n",
       "      <th>Injury prevention</th>\n",
       "      <th>Nutrition</th>\n",
       "      <th>Physical activity</th>\n",
       "      <th>...</th>\n",
       "      <th>Pelvic Inflammatory Disease (PID)</th>\n",
       "      <th>Repetitive stress injury (e.g., carpal tunnel syndrome)</th>\n",
       "      <th>Sinus infection</th>\n",
       "      <th>Strep throat</th>\n",
       "      <th>Tuberculosis</th>\n",
       "      <th>Urinary tract infection</th>\n",
       "      <th>How many of the last 7 days: enough sleep to feel rested</th>\n",
       "      <th>Last 7 days: Sleepiness in the day (no problem, a little, more than a little, a big problem , very big)</th>\n",
       "      <th>Awakened too early and couldn't get back to sleep?</th>\n",
       "      <th>Felt tired, dragged out, or sleepy during the day?</th>\n",
       "    </tr>\n",
       "  </thead>\n",
       "  <tbody>\n",
       "    <tr>\n",
       "      <th>0</th>\n",
       "      <td>4.0</td>\n",
       "      <td>2.0</td>\n",
       "      <td>2.0</td>\n",
       "      <td>2.0</td>\n",
       "      <td>1.0</td>\n",
       "      <td>2.0</td>\n",
       "      <td>1.0</td>\n",
       "      <td>1.0</td>\n",
       "      <td>1.0</td>\n",
       "      <td>2.0</td>\n",
       "      <td>...</td>\n",
       "      <td>1.0</td>\n",
       "      <td>1.0</td>\n",
       "      <td>1.0</td>\n",
       "      <td>1.0</td>\n",
       "      <td>1.0</td>\n",
       "      <td>1.0</td>\n",
       "      <td>3.0</td>\n",
       "      <td>2.0</td>\n",
       "      <td>2.0</td>\n",
       "      <td>4.0</td>\n",
       "    </tr>\n",
       "    <tr>\n",
       "      <th>1</th>\n",
       "      <td>3.0</td>\n",
       "      <td>2.0</td>\n",
       "      <td>2.0</td>\n",
       "      <td>2.0</td>\n",
       "      <td>2.0</td>\n",
       "      <td>2.0</td>\n",
       "      <td>1.0</td>\n",
       "      <td>1.0</td>\n",
       "      <td>2.0</td>\n",
       "      <td>2.0</td>\n",
       "      <td>...</td>\n",
       "      <td>1.0</td>\n",
       "      <td>1.0</td>\n",
       "      <td>2.0</td>\n",
       "      <td>2.0</td>\n",
       "      <td>1.0</td>\n",
       "      <td>2.0</td>\n",
       "      <td>1.0</td>\n",
       "      <td>4.0</td>\n",
       "      <td>2.0</td>\n",
       "      <td>8.0</td>\n",
       "    </tr>\n",
       "    <tr>\n",
       "      <th>2</th>\n",
       "      <td>3.0</td>\n",
       "      <td>1.0</td>\n",
       "      <td>1.0</td>\n",
       "      <td>1.0</td>\n",
       "      <td>1.0</td>\n",
       "      <td>1.0</td>\n",
       "      <td>1.0</td>\n",
       "      <td>1.0</td>\n",
       "      <td>1.0</td>\n",
       "      <td>1.0</td>\n",
       "      <td>...</td>\n",
       "      <td>1.0</td>\n",
       "      <td>1.0</td>\n",
       "      <td>1.0</td>\n",
       "      <td>2.0</td>\n",
       "      <td>1.0</td>\n",
       "      <td>2.0</td>\n",
       "      <td>6.0</td>\n",
       "      <td>2.0</td>\n",
       "      <td>4.0</td>\n",
       "      <td>3.0</td>\n",
       "    </tr>\n",
       "    <tr>\n",
       "      <th>3</th>\n",
       "      <td>1.0</td>\n",
       "      <td>1.0</td>\n",
       "      <td>1.0</td>\n",
       "      <td>1.0</td>\n",
       "      <td>1.0</td>\n",
       "      <td>1.0</td>\n",
       "      <td>1.0</td>\n",
       "      <td>1.0</td>\n",
       "      <td>1.0</td>\n",
       "      <td>2.0</td>\n",
       "      <td>...</td>\n",
       "      <td>1.0</td>\n",
       "      <td>1.0</td>\n",
       "      <td>1.0</td>\n",
       "      <td>1.0</td>\n",
       "      <td>1.0</td>\n",
       "      <td>1.0</td>\n",
       "      <td>6.0</td>\n",
       "      <td>1.0</td>\n",
       "      <td>1.0</td>\n",
       "      <td>3.0</td>\n",
       "    </tr>\n",
       "    <tr>\n",
       "      <th>4</th>\n",
       "      <td>3.0</td>\n",
       "      <td>1.0</td>\n",
       "      <td>1.0</td>\n",
       "      <td>1.0</td>\n",
       "      <td>1.0</td>\n",
       "      <td>1.0</td>\n",
       "      <td>2.0</td>\n",
       "      <td>1.0</td>\n",
       "      <td>1.0</td>\n",
       "      <td>1.0</td>\n",
       "      <td>...</td>\n",
       "      <td>1.0</td>\n",
       "      <td>1.0</td>\n",
       "      <td>1.0</td>\n",
       "      <td>1.0</td>\n",
       "      <td>1.0</td>\n",
       "      <td>1.0</td>\n",
       "      <td>6.0</td>\n",
       "      <td>2.0</td>\n",
       "      <td>2.0</td>\n",
       "      <td>2.0</td>\n",
       "    </tr>\n",
       "  </tbody>\n",
       "</table>\n",
       "<p>5 rows × 255 columns</p>\n",
       "</div>"
      ],
      "text/plain": [
       "   How would you describe your general health? (excellent, very good, good, fair, poor, don't know)  \\\n",
       "0                                                4.0                                                  \n",
       "1                                                3.0                                                  \n",
       "2                                                3.0                                                  \n",
       "3                                                1.0                                                  \n",
       "4                                                3.0                                                  \n",
       "\n",
       "   Alcohol and other drug use  Cold/Flu/Sore throat  Depression/Anxiety  \\\n",
       "0                         2.0                   2.0                 2.0   \n",
       "1                         2.0                   2.0                 2.0   \n",
       "2                         1.0                   1.0                 1.0   \n",
       "3                         1.0                   1.0                 1.0   \n",
       "4                         1.0                   1.0                 1.0   \n",
       "\n",
       "   Eating disorders  Grief and loss  How to help others in distress  \\\n",
       "0               1.0             2.0                             1.0   \n",
       "1               2.0             2.0                             1.0   \n",
       "2               1.0             1.0                             1.0   \n",
       "3               1.0             1.0                             1.0   \n",
       "4               1.0             1.0                             2.0   \n",
       "\n",
       "   Injury prevention  Nutrition  Physical activity  \\\n",
       "0                1.0        1.0                2.0   \n",
       "1                1.0        2.0                2.0   \n",
       "2                1.0        1.0                1.0   \n",
       "3                1.0        1.0                2.0   \n",
       "4                1.0        1.0                1.0   \n",
       "\n",
       "                          ...                          \\\n",
       "0                         ...                           \n",
       "1                         ...                           \n",
       "2                         ...                           \n",
       "3                         ...                           \n",
       "4                         ...                           \n",
       "\n",
       "   Pelvic Inflammatory Disease (PID)  \\\n",
       "0                                1.0   \n",
       "1                                1.0   \n",
       "2                                1.0   \n",
       "3                                1.0   \n",
       "4                                1.0   \n",
       "\n",
       "   Repetitive stress injury (e.g., carpal tunnel syndrome)  Sinus infection  \\\n",
       "0                                                1.0                    1.0   \n",
       "1                                                1.0                    2.0   \n",
       "2                                                1.0                    1.0   \n",
       "3                                                1.0                    1.0   \n",
       "4                                                1.0                    1.0   \n",
       "\n",
       "   Strep throat  Tuberculosis  Urinary tract infection  \\\n",
       "0           1.0           1.0                      1.0   \n",
       "1           2.0           1.0                      2.0   \n",
       "2           2.0           1.0                      2.0   \n",
       "3           1.0           1.0                      1.0   \n",
       "4           1.0           1.0                      1.0   \n",
       "\n",
       "   How many of the last 7 days: enough sleep to feel rested  \\\n",
       "0                                                3.0          \n",
       "1                                                1.0          \n",
       "2                                                6.0          \n",
       "3                                                6.0          \n",
       "4                                                6.0          \n",
       "\n",
       "   Last 7 days: Sleepiness in the day (no problem, a little, more than a little, a big problem , very big)  \\\n",
       "0                                                2.0                                                         \n",
       "1                                                4.0                                                         \n",
       "2                                                2.0                                                         \n",
       "3                                                1.0                                                         \n",
       "4                                                2.0                                                         \n",
       "\n",
       "   Awakened too early and couldn't get back to sleep?  \\\n",
       "0                                                2.0    \n",
       "1                                                2.0    \n",
       "2                                                4.0    \n",
       "3                                                1.0    \n",
       "4                                                2.0    \n",
       "\n",
       "   Felt tired, dragged out, or sleepy during the day?  \n",
       "0                                                4.0   \n",
       "1                                                8.0   \n",
       "2                                                3.0   \n",
       "3                                                3.0   \n",
       "4                                                2.0   \n",
       "\n",
       "[5 rows x 255 columns]"
      ]
     },
     "execution_count": 3,
     "metadata": {},
     "output_type": "execute_result"
    }
   ],
   "source": [
    "## import packages\n",
    "\n",
    "import pandas as pd\n",
    "from matplotlib import pyplot as plt\n",
    "\n",
    "## load dataset and display\n",
    "\n",
    "ncha_data = pd.read_csv(\"datasets/NCHA.csv\")\n",
    "ncha_data.head()"
   ]
  },
  {
   "cell_type": "markdown",
   "metadata": {},
   "source": [
    "## Task 1: Create a bar graph"
   ]
  },
  {
   "cell_type": "code",
   "execution_count": 4,
   "metadata": {},
   "outputs": [
    {
     "data": {
      "text/plain": [
       "0    4.0\n",
       "1    3.0\n",
       "2    3.0\n",
       "3    1.0\n",
       "4    3.0\n",
       "5    3.0\n",
       "6    3.0\n",
       "7    1.0\n",
       "8    2.0\n",
       "9    2.0\n",
       "Name: How would you describe your general health? (excellent, very good, good, fair, poor, don't know), dtype: float64"
      ]
     },
     "metadata": {},
     "output_type": "display_data"
    }
   ],
   "source": [
    "## the name of column 1 is stored in a variable because\n",
    "## it is very long (this is why variables are so helpful!)\n",
    "\n",
    "health_descr_column = \"How would you describe your general health? (excellent, very good, good, fair, poor, don't know)\"\n",
    "\n",
    "display(ncha_data[health_descr_column].head(10))"
   ]
  },
  {
   "cell_type": "code",
   "execution_count": 5,
   "metadata": {},
   "outputs": [
    {
     "name": "stdout",
     "output_type": "stream",
     "text": [
      "2.0    405\n",
      "3.0    385\n",
      "4.0    205\n",
      "1.0    127\n",
      "5.0     44\n",
      "6.0     11\n",
      "Name: How would you describe your general health? (excellent, very good, good, fair, poor, don't know), dtype: int64\n"
     ]
    }
   ],
   "source": [
    "## pull out the health description values from the dataset\n",
    "\n",
    "health_values = ncha_data[health_descr_column]\n",
    "\n",
    "## obtain a frequency count for each response using the\n",
    "## value_counts() function\n",
    "\n",
    "counts_h = health_values.value_counts()\n",
    "\n",
    "print(counts_h)"
   ]
  },
  {
   "cell_type": "code",
   "execution_count": 6,
   "metadata": {},
   "outputs": [
    {
     "name": "stdout",
     "output_type": "stream",
     "text": [
      "1.0    127\n",
      "2.0    405\n",
      "3.0    385\n",
      "4.0    205\n",
      "5.0     44\n",
      "6.0     11\n",
      "Name: How would you describe your general health? (excellent, very good, good, fair, poor, don't know), dtype: int64\n"
     ]
    }
   ],
   "source": [
    "## now we have a table of these counts\n",
    "## the first column (index) of this table contains the response variable\n",
    "## the second column contains the counts for each response\n",
    "\n",
    "## sort these frequencies according to the response variable with the\n",
    "## sort_index() function (1 should come first)\n",
    "\n",
    "counts_h = counts_h.sort_index()\n",
    "\n",
    "print(counts_h)"
   ]
  },
  {
   "cell_type": "code",
   "execution_count": 7,
   "metadata": {},
   "outputs": [
    {
     "data": {
      "image/png": "[encoded data removed]",
      "text/plain": [
       "<Figure size 864x576 with 1 Axes>"
      ]
     },
     "metadata": {},
     "output_type": "display_data"
    }
   ],
   "source": [
    "## get x-values\n",
    "x_values = counts_h.index\n",
    "y_values = counts_h\n",
    "\n",
    "## create bar graph\n",
    "\n",
    "fig, axs = plt.subplots(figsize=(12,8))    \n",
    "bargraph = axs.bar(x_values, y_values)     \n",
    "axs.set_title(\"Respondents' descriptions of health\", fontsize=30)   \n",
    "axs.set_xlabel(\"Health quality\", fontsize=18)\n",
    "axs.set_ylabel(\"Number of responses\", fontsize=18)\n",
    "axs.tick_params(labelsize=16)              \n",
    "plt.show()"
   ]
  },
  {
   "cell_type": "markdown",
   "metadata": {},
   "source": [
    "## Task 2: Create a pie chart"
   ]
  },
  {
   "cell_type": "code",
   "execution_count": 6,
   "metadata": {},
   "outputs": [
    {
     "data": {
      "text/plain": [
       "0    3.0\n",
       "1    1.0\n",
       "2    6.0\n",
       "3    6.0\n",
       "4    6.0\n",
       "5    7.0\n",
       "6    6.0\n",
       "7    7.0\n",
       "8    5.0\n",
       "9    3.0\n",
       "Name: How many of the last 7 days: enough sleep to feel rested, dtype: float64"
      ]
     },
     "metadata": {},
     "output_type": "display_data"
    }
   ],
   "source": [
    "## store the name of the column with data on sleep\n",
    "## in a variable\n",
    "\n",
    "sleep_descr_column = \"How many of the last 7 days: enough sleep to feel rested\"\n",
    "\n",
    "display(ncha_data[sleep_descr_column].head(10))"
   ]
  },
  {
   "cell_type": "code",
   "execution_count": 7,
   "metadata": {},
   "outputs": [
    {
     "name": "stdout",
     "output_type": "stream",
     "text": [
      "3.0    0.168644\n",
      "5.0    0.166949\n",
      "4.0    0.163559\n",
      "6.0    0.140678\n",
      "2.0    0.138983\n",
      "1.0    0.108475\n",
      "7.0    0.063559\n",
      "8.0    0.049153\n",
      "Name: How many of the last 7 days: enough sleep to feel rested, dtype: float64\n"
     ]
    }
   ],
   "source": [
    "## pull out the sleep description values from the dataset\n",
    "\n",
    "sleep_values = ncha_data[sleep_descr_column]\n",
    "\n",
    "## obtain a frequency count for each response using the\n",
    "## value_counts() function\n",
    "\n",
    "counts_s = sleep_values.value_counts(normalize=True)\n",
    "\n",
    "print(counts_s)"
   ]
  },
  {
   "cell_type": "code",
   "execution_count": 8,
   "metadata": {},
   "outputs": [
    {
     "name": "stdout",
     "output_type": "stream",
     "text": [
      "1.0    0.108475\n",
      "2.0    0.138983\n",
      "3.0    0.168644\n",
      "4.0    0.163559\n",
      "5.0    0.166949\n",
      "6.0    0.140678\n",
      "7.0    0.063559\n",
      "8.0    0.049153\n",
      "Name: How many of the last 7 days: enough sleep to feel rested, dtype: float64\n"
     ]
    }
   ],
   "source": [
    "## sort these frequencies according to the response variable with the\n",
    "## sort_index() function (1 should come first)\n",
    "\n",
    "counts_s = counts_s.sort_index()\n",
    "\n",
    "print(counts_s)"
   ]
  },
  {
   "cell_type": "code",
   "execution_count": 9,
   "metadata": {},
   "outputs": [
    {
     "ename": "NameError",
     "evalue": "name 'slice_percents' is not defined",
     "output_type": "error",
     "traceback": [
      "\u001b[0;31m\u001b[0m",
      "\u001b[0;31mNameError\u001b[0mTraceback (most recent call last)",
      "\u001b[0;32m<ipython-input-9-c30f1dd85ea9>\u001b[0m in \u001b[0;36m<module>\u001b[0;34m()\u001b[0m\n\u001b[1;32m      7\u001b[0m \u001b[0mfig\u001b[0m\u001b[0;34m,\u001b[0m \u001b[0maxs\u001b[0m \u001b[0;34m=\u001b[0m \u001b[0mplt\u001b[0m\u001b[0;34m.\u001b[0m\u001b[0msubplots\u001b[0m\u001b[0;34m(\u001b[0m\u001b[0mfigsize\u001b[0m\u001b[0;34m=\u001b[0m\u001b[0;34m(\u001b[0m\u001b[0;36m25\u001b[0m\u001b[0;34m,\u001b[0m\u001b[0;36m15\u001b[0m\u001b[0;34m)\u001b[0m\u001b[0;34m)\u001b[0m\u001b[0;34m\u001b[0m\u001b[0m\n\u001b[1;32m      8\u001b[0m \u001b[0;34m\u001b[0m\u001b[0m\n\u001b[0;32m----> 9\u001b[0;31m \u001b[0mpiechart\u001b[0m \u001b[0;34m=\u001b[0m \u001b[0maxs\u001b[0m\u001b[0;34m.\u001b[0m\u001b[0mpie\u001b[0m\u001b[0;34m(\u001b[0m\u001b[0mslice_percents\u001b[0m\u001b[0;34m,\u001b[0m \u001b[0mlabels\u001b[0m\u001b[0;34m=\u001b[0m\u001b[0mslice_labels\u001b[0m\u001b[0;34m,\u001b[0m \u001b[0mautopct\u001b[0m\u001b[0;34m=\u001b[0m\u001b[0;34m\"%1.1f%%\"\u001b[0m\u001b[0;34m)\u001b[0m\u001b[0;34m\u001b[0m\u001b[0m\n\u001b[0m\u001b[1;32m     10\u001b[0m \u001b[0;34m\u001b[0m\u001b[0m\n\u001b[1;32m     11\u001b[0m \u001b[0maxs\u001b[0m\u001b[0;34m.\u001b[0m\u001b[0maxis\u001b[0m\u001b[0;34m(\u001b[0m\u001b[0;34m\"equal\"\u001b[0m\u001b[0;34m)\u001b[0m\u001b[0;34m\u001b[0m\u001b[0m\n",
      "\u001b[0;31mNameError\u001b[0m: name 'slice_percents' is not defined"
     ]
    },
    {
     "data": {
      "image/png": "[encoded data removed]",
      "text/plain": [
       "<Figure size 1800x1080 with 1 Axes>"
      ]
     },
     "metadata": {},
     "output_type": "display_data"
    }
   ],
   "source": [
    "## get x-values\n",
    "\n",
    "slice_labels = counts_s.index\n",
    "\n",
    "## create pie chart\n",
    "\n",
    "fig, axs = plt.subplots(figsize=(25,15))\n",
    "\n",
    "piechart = axs.pie(slice_percents, labels=slice_labels, autopct=\"%1.1f%%\")\n",
    "\n",
    "axs.axis(\"equal\")                                              \n",
    "axs.set_title(\"Number of days (in the past 7) that respondent has felt rested\", fontsize=40)                           \n",
    "for i in range(len(piechart[1])):                                  \n",
    "    piechart[1][i].set_fontsize(18)                                \n",
    "    piechart[2][i].set_fontsize(18)                                \n",
    "plt.show()"
   ]
  },
  {
   "cell_type": "code",
   "execution_count": null,
   "metadata": {},
   "outputs": [],
   "source": []
  }
 ],
 "metadata": {
  "kernelspec": {
   "display_name": "Python 3",
   "language": "python",
   "name": "python3"
  },
  "language_info": {
   "codemirror_mode": {
    "name": "ipython",
    "version": 3
   },
   "file_extension": ".py",
   "mimetype": "text/x-python",
   "name": "python",
   "nbconvert_exporter": "python",
   "pygments_lexer": "ipython3",
   "version": "3.4.3"
  }
 },
 "nbformat": 4,
 "nbformat_minor": 2
}
