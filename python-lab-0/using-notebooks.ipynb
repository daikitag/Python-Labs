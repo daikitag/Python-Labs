{
 "cells": [
  {
   "cell_type": "markdown",
   "metadata": {},
   "source": [
    "*This* text is written in a code cell.\n",
    "\n",
    "Make this cell your current location in the notebook by clicking on it.\n",
    "\n",
    "Now **add a new cell** below this cell by clicking the `+` button in the toolbar at the top of the notebook.\n",
    "\n",
    "Lastly **change the type of the new cell** you have just created from Code to Markdown by selecting the \"Markdown\" option from the dropdown menu in the toolbar at the top of the notebook."
   ]
  },
  {
   "cell_type": "code",
   "execution_count": null,
   "metadata": {},
   "outputs": [],
   "source": [
    "# This is a comment written in a code cell.\n",
    "\n",
    "# Add a new Code cell below this one and\n",
    "# write the following code in this new cell:\n",
    "#\n",
    "#                     print(\"Hello\")\n",
    "# \n",
    "# Now run this new cell by pressing the shift and return\n",
    "# return buttons at the same time."
   ]
  },
  {
   "cell_type": "code",
   "execution_count": 1,
   "metadata": {},
   "outputs": [
    {
     "name": "stdout",
     "output_type": "stream",
     "text": [
      "Hello\n"
     ]
    }
   ],
   "source": [
    "print(\"Hello\")"
   ]
  },
  {
   "cell_type": "code",
   "execution_count": null,
   "metadata": {},
   "outputs": [],
   "source": []
  }
 ],
 "metadata": {
  "kernelspec": {
   "display_name": "Python 3",
   "language": "python",
   "name": "python3"
  },
  "language_info": {
   "codemirror_mode": {
    "name": "ipython",
    "version": 3
   },
   "file_extension": ".py",
   "mimetype": "text/x-python",
   "name": "python",
   "nbconvert_exporter": "python",
   "pygments_lexer": "ipython3",
   "version": "3.4.3"
  }
 },
 "nbformat": 4,
 "nbformat_minor": 2
}
