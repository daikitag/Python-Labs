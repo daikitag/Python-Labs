{
 "cells": [
  {
   "cell_type": "markdown",
   "metadata": {},
   "source": [
    "### Import packages"
   ]
  },
  {
   "cell_type": "code",
   "execution_count": 1,
   "metadata": {},
   "outputs": [],
   "source": [
    "# import packages\n",
    "import pandas as pd\n",
    "import numpy as np\n",
    "from matplotlib import pyplot as plt\n",
    "import random"
   ]
  },
  {
   "cell_type": "markdown",
   "metadata": {},
   "source": [
    "## Task 1: Simulate 400 coin tosses"
   ]
  },
  {
   "cell_type": "code",
   "execution_count": 2,
   "metadata": {},
   "outputs": [],
   "source": [
    "# simulate 400 coin tosses\n",
    "\n",
    "all_coin_tosses = []\n",
    "\n",
    "for i in range(400):\n",
    "\n",
    "    toss = random.choice([\"H\", \"T\"])\n",
    "    all_coin_tosses.append(toss)"
   ]
  },
  {
   "cell_type": "markdown",
   "metadata": {},
   "source": [
    "<p>\n",
    "<details><summary>Click to show solution</summary><br>\n",
    "    \n",
    "```python\n",
    "# simulate 400 coin tosses\n",
    "all_coin_tosses = []\n",
    "\n",
    "for i in range(400):\n",
    "    \n",
    "    toss = random.choice([\"H\", \"T\"])\n",
    "    all_coin_tosses.append(toss)\n",
    "```\n",
    "\n",
    "</details>\n",
    "</p>"
   ]
  },
  {
   "cell_type": "code",
   "execution_count": 3,
   "metadata": {},
   "outputs": [
    {
     "name": "stdout",
     "output_type": "stream",
     "text": [
      "['T', 'T', 'T', 'T', 'H', 'H', 'H', 'H', 'H', 'T', 'H', 'T', 'T', 'T', 'T', 'T', 'T', 'T', 'T', 'H', 'H', 'H', 'H', 'H', 'T', 'T', 'H', 'T', 'H', 'T', 'H', 'T', 'H', 'T', 'T', 'H', 'H', 'H', 'H', 'H', 'H', 'H', 'T', 'H', 'H', 'H', 'T', 'T', 'H', 'H', 'T', 'H', 'T', 'H', 'H', 'H', 'T', 'H', 'H', 'T', 'T', 'T', 'T', 'T', 'H', 'T', 'H', 'H', 'H', 'H', 'H', 'T', 'H', 'H', 'H', 'H', 'T', 'H', 'T', 'T', 'T', 'H', 'H', 'H', 'T', 'T', 'H', 'H', 'T', 'T', 'H', 'H', 'T', 'T', 'T', 'T', 'H', 'T', 'H', 'T', 'T', 'H', 'T', 'T', 'T', 'H', 'H', 'H', 'H', 'T', 'H', 'H', 'H', 'H', 'T', 'T', 'H', 'T', 'T', 'T', 'H', 'T', 'H', 'H', 'H', 'T', 'H', 'H', 'H', 'H', 'T', 'H', 'T', 'T', 'T', 'T', 'T', 'T', 'H', 'H', 'H', 'H', 'H', 'H', 'T', 'H', 'H', 'H', 'H', 'H', 'H', 'H', 'T', 'H', 'T', 'H', 'T', 'T', 'H', 'H', 'T', 'T', 'T', 'T', 'T', 'H', 'T', 'H', 'H', 'H', 'H', 'H', 'T', 'H', 'H', 'H', 'T', 'T', 'T', 'T', 'T', 'H', 'H', 'H', 'H', 'H', 'H', 'H', 'H', 'T', 'H', 'H', 'H', 'T', 'T', 'H', 'T', 'H', 'H', 'T', 'H', 'T', 'H', 'T', 'H', 'H', 'H', 'T', 'H', 'T', 'H', 'T', 'H', 'T', 'T', 'T', 'T', 'T', 'T', 'H', 'H', 'T', 'T', 'T', 'T', 'T', 'H', 'H', 'H', 'H', 'T', 'H', 'H', 'H', 'T', 'T', 'T', 'T', 'H', 'T', 'T', 'H', 'T', 'T', 'T', 'H', 'H', 'T', 'H', 'T', 'T', 'H', 'T', 'H', 'T', 'T', 'H', 'H', 'H', 'T', 'T', 'H', 'T', 'T', 'T', 'T', 'H', 'T', 'H', 'T', 'T', 'H', 'T', 'H', 'T', 'T', 'T', 'T', 'H', 'T', 'H', 'H', 'T', 'T', 'T', 'T', 'T', 'T', 'H', 'H', 'H', 'T', 'H', 'H', 'H', 'T', 'T', 'T', 'H', 'H', 'T', 'T', 'H', 'T', 'H', 'H', 'T', 'H', 'H', 'H', 'T', 'H', 'T', 'T', 'T', 'H', 'H', 'H', 'T', 'T', 'H', 'H', 'H', 'T', 'T', 'H', 'H', 'T', 'H', 'H', 'T', 'H', 'T', 'H', 'T', 'H', 'H', 'T', 'H', 'H', 'T', 'H', 'T', 'H', 'T', 'T', 'T', 'T', 'T', 'H', 'T', 'T', 'H', 'T', 'H', 'H', 'T', 'H', 'H', 'T', 'H', 'T', 'T', 'T', 'T', 'T', 'H', 'H', 'T', 'T', 'T', 'H', 'T', 'T', 'T', 'T', 'T', 'T', 'H', 'H', 'H', 'T', 'H', 'T', 'H', 'T', 'T', 'H', 'H', 'H', 'H', 'T', 'H', 'H', 'H', 'H', 'T', 'T', 'H', 'T']\n"
     ]
    }
   ],
   "source": [
    "# print all coin toss outcomes\n",
    "print(all_coin_tosses)"
   ]
  },
  {
   "cell_type": "markdown",
   "metadata": {},
   "source": [
    "## Task 2: Calculate the number of heads after every 4 tosses"
   ]
  },
  {
   "cell_type": "code",
   "execution_count": 5,
   "metadata": {},
   "outputs": [
    {
     "name": "stdout",
     "output_type": "stream",
     "text": [
      "[0, 4, 2, 0, 1, 4, 1, 2, 2, 4, 3, 2, 3, 3, 2, 0, 3, 3, 4, 1, 3, 2, 2, 0, 2, 1, 3, 3, 2, 1, 3, 3, 3, 0, 2, 4, 3, 4, 2, 2, 0, 2, 4, 3, 0, 3, 4, 3, 2, 2, 2, 3, 2, 1, 1, 1, 2, 3, 2, 1, 1, 2, 2, 1, 3, 1, 1, 2, 1, 1, 2, 0, 3, 3, 2, 1, 3, 3, 1, 2, 3, 2, 3, 2, 3, 2, 0, 1, 3, 2, 1, 2, 1, 0, 2, 2, 2, 3, 4, 1]\n"
     ]
    }
   ],
   "source": [
    "# list to store the number of heads in each group of 4\n",
    "num_heads_list = [] \n",
    "\n",
    "# for loop with start=0, stop=397, step=4   \n",
    "for i in range(0, 397, 4): \n",
    "    \n",
    "    four_tosses = all_coin_tosses[i:i+4]\n",
    "    num_heads = four_tosses.count(\"H\")\n",
    "    num_heads_list.append(num_heads)\n",
    "\n",
    "print(num_heads_list)"
   ]
  },
  {
   "cell_type": "code",
   "execution_count": 6,
   "metadata": {},
   "outputs": [
    {
     "data": {
      "image/png": "[encoded data removed]",
      "text/plain": [
       "<Figure size 864x576 with 1 Axes>"
      ]
     },
     "metadata": {},
     "output_type": "display_data"
    }
   ],
   "source": [
    "# plot number of heads every 4 tosses in a histogram\n",
    "\n",
    "fig, axs = plt.subplots(figsize=(12,8))\n",
    "axs.hist(num_heads_list, color=\"IndianRed\", edgecolor=\"Black\", bins=[0, 1, 2, 3, 4, 5])\n",
    "plt.title(\"Distribution of Number of Heads\\nin Each Group of 4 Tosses\", fontsize=30)\n",
    "axs.set_xlabel(\"Number of heads\", fontsize=25)\n",
    "axs.set_ylabel(\"Number of groups of 4 tosses\", fontsize=25)\n",
    "axs.set_xticks(np.arange(0, 5, step=1))\n",
    "axs.tick_params(labelsize=15)\n",
    "plt.show()"
   ]
  },
  {
   "cell_type": "markdown",
   "metadata": {},
   "source": [
    "## Task 3: Calculate the cumulative proportion of heads every 12 tosses"
   ]
  },
  {
   "cell_type": "code",
   "execution_count": null,
   "metadata": {},
   "outputs": [],
   "source": [
    "# simulate 10000 coin tosses\n",
    "\n"
   ]
  },
  {
   "cell_type": "markdown",
   "metadata": {},
   "source": [
    "<p>\n",
    "<details><summary>Click to show solution</summary><br>\n",
    "    \n",
    "```python\n",
    "# simulate 10000 coin tosses\n",
    "all_coin_tosses = []\n",
    "\n",
    "for i in range(10000):\n",
    "    \n",
    "    toss = random.choice([\"H\", \"T\"])\n",
    "    all_coin_tosses.append(toss)\n",
    "```\n",
    "\n",
    "</details>\n",
    "</p>"
   ]
  },
  {
   "cell_type": "code",
   "execution_count": null,
   "metadata": {},
   "outputs": [],
   "source": [
    "# calculate the cumulative proportion of the number of heads\n",
    "# in each group of 12 tosses\n",
    "\n",
    "num_heads = 0\n",
    "prop_heads_list = []\n",
    "\n",
    "for i in range(0, 9985, 12):\n",
    "\n",
    "    twelve_tosses = all_coin_tosses[i:i+12]\n",
    "    num_heads += twelve_tosses.count(\"H\")\n",
    "    prop_heads = num_heads/(i+12)\n",
    "    prop_heads_list.append(prop_heads)"
   ]
  },
  {
   "cell_type": "code",
   "execution_count": null,
   "metadata": {},
   "outputs": [],
   "source": [
    "# plot the cumulative proportion of the number of heads\n",
    "# in each group of 12 tosses\n",
    "\n",
    "fig, axs = plt.subplots(figsize=(12,8))\n",
    "plt.plot(prop_heads_list, color=\"IndianRed\")\n",
    "plt.title(\"Cumulative Proportion of Number of Heads\\nin Each Group of 12 Tosses\", fontsize=30)\n",
    "axs.set_xlabel(\"Number of groups of 12 tosses\", fontsize=25)\n",
    "axs.set_ylabel(\"Proportion of heads\", fontsize=25)\n",
    "axs.set_yticks(np.arange(0, 0.8, step=0.1))\n",
    "axs.tick_params(labelsize=15)\n",
    "plt.show()"
   ]
  },
  {
   "cell_type": "code",
   "execution_count": null,
   "metadata": {},
   "outputs": [],
   "source": []
  },
  {
   "cell_type": "code",
   "execution_count": null,
   "metadata": {},
   "outputs": [],
   "source": []
  }
 ],
 "metadata": {
  "kernelspec": {
   "display_name": "Python 3",
   "language": "python",
   "name": "python3"
  },
  "language_info": {
   "codemirror_mode": {
    "name": "ipython",
    "version": 3
   },
   "file_extension": ".py",
   "mimetype": "text/x-python",
   "name": "python",
   "nbconvert_exporter": "python",
   "pygments_lexer": "ipython3",
   "version": "3.4.3"
  }
 },
 "nbformat": 4,
 "nbformat_minor": 2
}
