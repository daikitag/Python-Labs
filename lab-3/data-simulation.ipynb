{
 "cells": [
  {
   "cell_type": "markdown",
   "metadata": {},
   "source": [
    "### Import packages"
   ]
  },
  {
   "cell_type": "code",
   "execution_count": 1,
   "metadata": {},
   "outputs": [],
   "source": [
    "# import packages\n",
    "import pandas as pd\n",
    "import numpy as np\n",
    "from matplotlib import pyplot as plt\n",
    "import random"
   ]
  },
  {
   "cell_type": "code",
   "execution_count": 2,
   "metadata": {},
   "outputs": [
    {
     "data": {
      "text/plain": [
       "Text(0,0.5,'Probability')"
      ]
     },
     "execution_count": 2,
     "metadata": {},
     "output_type": "execute_result"
    },
    {
     "data": {
      "image/png": "[encoded data removed]",
      "text/plain": [
       "<Figure size 432x288 with 1 Axes>"
      ]
     },
     "metadata": {},
     "output_type": "display_data"
    }
   ],
   "source": [
    "## Please type this\n",
    "\n",
    "n=30\n",
    "p=0.5\n",
    "size=10000\n",
    "x=np.random.binomial(n=n, p=p, size=size)\n",
    "\n",
    "prob = [np.equal(x,i).mean() for i in range(n)]\n",
    "\n",
    "plt.xticks(range(n))\n",
    "plt.plot(list(range(n)), prob, color='blue', marker='o')\n",
    "plt.xlabel('Number of Heads',fontsize=14)\n",
    "plt.ylabel('Probability',fontsize=14)\n"
   ]
  },
  {
   "cell_type": "markdown",
   "metadata": {},
   "source": [
    "## Task 1"
   ]
  },
  {
   "cell_type": "code",
   "execution_count": 5,
   "metadata": {},
   "outputs": [
    {
     "name": "stdout",
     "output_type": "stream",
     "text": [
      "4\n"
     ]
    }
   ],
   "source": [
    "# randint()\n",
    "\n",
    "x = random.randint(1,10)\n",
    "\n",
    "print(x)"
   ]
  },
  {
   "cell_type": "code",
   "execution_count": 7,
   "metadata": {},
   "outputs": [
    {
     "name": "stdout",
     "output_type": "stream",
     "text": [
      "clementines\n"
     ]
    }
   ],
   "source": [
    "# choice()\n",
    "\n",
    "fruit = random.choice([\"apples\", \"bananas\", \"clementines\"])\n",
    "\n",
    "print(fruit)"
   ]
  },
  {
   "cell_type": "markdown",
   "metadata": {},
   "source": [
    "## `for` loops"
   ]
  },
  {
   "cell_type": "code",
   "execution_count": 8,
   "metadata": {},
   "outputs": [
    {
     "name": "stdout",
     "output_type": "stream",
     "text": [
      "0\n",
      "5\n",
      "10\n",
      "15\n",
      "20\n"
     ]
    }
   ],
   "source": [
    "# (1)\n",
    "\n",
    "value_list = [0, 5, 10, 15, 20]\n",
    "\n",
    "for val in value_list:\n",
    "    print(val)"
   ]
  },
  {
   "cell_type": "code",
   "execution_count": 9,
   "metadata": {},
   "outputs": [
    {
     "name": "stdout",
     "output_type": "stream",
     "text": [
      "1\n",
      "2\n",
      "3\n",
      "4\n"
     ]
    }
   ],
   "source": [
    "list = [1,2,3,4]\n",
    "\n",
    "for i in list:\n",
    "    print(i)"
   ]
  },
  {
   "cell_type": "code",
   "execution_count": 10,
   "metadata": {},
   "outputs": [
    {
     "name": "stdout",
     "output_type": "stream",
     "text": [
      "[1, 2, 3, 4]\n"
     ]
    }
   ],
   "source": [
    "print(list)"
   ]
  },
  {
   "cell_type": "code",
   "execution_count": 11,
   "metadata": {},
   "outputs": [
    {
     "name": "stdout",
     "output_type": "stream",
     "text": [
      "150\n",
      "145\n",
      "180\n",
      "175\n"
     ]
    }
   ],
   "source": [
    "# (2)\n",
    "\n",
    "value_list = [50, 45, 80, 75]\n",
    "\n",
    "for val in value_list:\n",
    "    new_val = val + 100\n",
    "    print(new_val)"
   ]
  },
  {
   "cell_type": "code",
   "execution_count": 12,
   "metadata": {},
   "outputs": [
    {
     "name": "stdout",
     "output_type": "stream",
     "text": [
      "10\n",
      "11\n",
      "12\n",
      "13\n",
      "14\n",
      "15\n",
      "16\n",
      "17\n",
      "18\n",
      "19\n"
     ]
    }
   ],
   "source": [
    "# (3)\n",
    "# note that the last value of i is 19, not 20\n",
    "\n",
    "for i in range(10, 20):\n",
    "    print(i)"
   ]
  },
  {
   "cell_type": "code",
   "execution_count": 13,
   "metadata": {},
   "outputs": [
    {
     "name": "stdout",
     "output_type": "stream",
     "text": [
      "0\n",
      "20\n",
      "40\n",
      "60\n",
      "80\n",
      "100\n"
     ]
    }
   ],
   "source": [
    "# (4)\n",
    "\n",
    "for i in range(0, 101, 20):\n",
    "    print(i)"
   ]
  },
  {
   "cell_type": "code",
   "execution_count": 14,
   "metadata": {},
   "outputs": [
    {
     "name": "stdout",
     "output_type": "stream",
     "text": [
      "Hi!\n",
      "Hi!\n",
      "Hi!\n",
      "Hi!\n",
      "Hi!\n",
      "Hi!\n",
      "Hi!\n",
      "Hi!\n",
      "Hi!\n",
      "Hi!\n"
     ]
    }
   ],
   "source": [
    "# (5)\n",
    "\n",
    "for i in range(0, 10):\n",
    "    print(\"Hi!\")"
   ]
  },
  {
   "cell_type": "markdown",
   "metadata": {},
   "source": [
    "## Task 2"
   ]
  },
  {
   "cell_type": "code",
   "execution_count": 16,
   "metadata": {},
   "outputs": [
    {
     "name": "stdout",
     "output_type": "stream",
     "text": [
      "[6, 2, 5, 6, 8, 3, 1, 1, 10, 1, 8, 3, 5, 6, 5, 2, 4, 4, 8, 3, 3, 4, 5, 6, 9, 9, 9, 6, 3, 6, 1, 9, 7, 7, 4, 10, 5, 7, 2, 1, 1, 2, 10, 9, 5, 3, 8, 3, 4, 10, 7, 3, 7, 10, 1, 1, 9, 9, 5, 10, 4, 9, 3, 10, 6, 2, 4, 5, 3, 7, 2, 1, 1, 2, 2, 1, 7, 6, 9, 9, 9, 4, 9, 3, 7, 5, 5, 7, 7, 10, 9, 5, 4, 2, 4, 10, 8, 1, 5, 2]\n"
     ]
    }
   ],
   "source": [
    "# simulate our random integer choice 100 times\n",
    "\n",
    "# create a list to store the random integer from each iteration\n",
    "simulated_data_1 = [] \n",
    "\n",
    "for i in range(100):\n",
    "    \n",
    "    # generate random integer\n",
    "    x = random.randint(1,10) \n",
    "    \n",
    "    # add random integer to list of all random integers\n",
    "    simulated_data_1.append(x) \n",
    "\n",
    "print(simulated_data_1)"
   ]
  },
  {
   "cell_type": "code",
   "execution_count": null,
   "metadata": {},
   "outputs": [],
   "source": [
    "# simulate our random fruit choice 100 times\n",
    "\n"
   ]
  },
  {
   "cell_type": "markdown",
   "metadata": {},
   "source": [
    "*Try not to look at the solution until you have tried to write the code for yourself!*\n",
    "<p>\n",
    "<details><summary>Click to show solution</summary><br>\n",
    "    \n",
    "```python\n",
    "# create a list to store random choice from each iteration\n",
    "simulated_data_2 = [] \n",
    "\n",
    "for i in range(100):\n",
    "    \n",
    "    # generate random choice of fruit\n",
    "    fruit = random.choice([\"apples\", \"bananas\", \"clementines\"])\n",
    "    \n",
    "    # add random choice of fruit to list of all choices\n",
    "    simulated_data_2.append(fruit) \n",
    "\n",
    "print(simulated_data_2)\n",
    "```\n",
    "\n",
    "</details>\n",
    "</p>"
   ]
  },
  {
   "cell_type": "code",
   "execution_count": null,
   "metadata": {},
   "outputs": [],
   "source": []
  },
  {
   "cell_type": "code",
   "execution_count": null,
   "metadata": {},
   "outputs": [],
   "source": []
  },
  {
   "cell_type": "code",
   "execution_count": null,
   "metadata": {},
   "outputs": [],
   "source": []
  }
 ],
 "metadata": {
  "kernelspec": {
   "display_name": "Python 3",
   "language": "python",
   "name": "python3"
  },
  "language_info": {
   "codemirror_mode": {
    "name": "ipython",
    "version": 3
   },
   "file_extension": ".py",
   "mimetype": "text/x-python",
   "name": "python",
   "nbconvert_exporter": "python",
   "pygments_lexer": "ipython3",
   "version": "3.4.3"
  }
 },
 "nbformat": 4,
 "nbformat_minor": 2
}
