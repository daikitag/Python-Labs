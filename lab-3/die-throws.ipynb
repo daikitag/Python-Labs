{
 "cells": [
  {
   "cell_type": "markdown",
   "metadata": {},
   "source": [
    "### Import packages"
   ]
  },
  {
   "cell_type": "code",
   "execution_count": null,
   "metadata": {},
   "outputs": [],
   "source": [
    "# import packages\n",
    "import pandas as pd\n",
    "import numpy as np\n",
    "from matplotlib import pyplot as plt\n",
    "import random"
   ]
  },
  {
   "cell_type": "markdown",
   "metadata": {},
   "source": [
    "## Task 1: Simulate 400 die throws"
   ]
  },
  {
   "cell_type": "code",
   "execution_count": null,
   "metadata": {},
   "outputs": [],
   "source": [
    "# simulate 400 die throws\n",
    "\n"
   ]
  },
  {
   "cell_type": "markdown",
   "metadata": {},
   "source": [
    "<p>\n",
    "<details><summary>Click to show solution</summary><br>\n",
    "    \n",
    "```python\n",
    "# simulate 400 die throws\n",
    "all_die_throws = []\n",
    "\n",
    "for i in range(400):\n",
    "    \n",
    "    throw = random.randint(1,6)\n",
    "    all_die_throws.append(throw)\n",
    "```\n",
    "\n",
    "</details>\n",
    "</p>"
   ]
  },
  {
   "cell_type": "code",
   "execution_count": null,
   "metadata": {},
   "outputs": [],
   "source": [
    "# print all die throw outcomes\n",
    "print(all_die_throws)"
   ]
  },
  {
   "cell_type": "markdown",
   "metadata": {},
   "source": [
    "## Task 2: Calculate the number of 2's after every four throws"
   ]
  },
  {
   "cell_type": "code",
   "execution_count": null,
   "metadata": {},
   "outputs": [],
   "source": [
    "\n"
   ]
  },
  {
   "cell_type": "markdown",
   "metadata": {},
   "source": [
    "<p>\n",
    "<details><summary>Click to show solution</summary><br>\n",
    "    \n",
    "```python\n",
    "num_twos_list = []\n",
    "\n",
    "for i in range(0, 397, 4):\n",
    "    \n",
    "    four_throws = all_die_throws[i:i+4]\n",
    "    num_twos = four_throws.count(2)\n",
    "    num_twos_list.append(num_twos)\n",
    "```\n",
    "\n",
    "</details>\n",
    "</p>"
   ]
  },
  {
   "cell_type": "code",
   "execution_count": null,
   "metadata": {},
   "outputs": [],
   "source": [
    "# print the number of 2's in every four throws\n",
    "print(num_twos_list)"
   ]
  },
  {
   "cell_type": "code",
   "execution_count": null,
   "metadata": {},
   "outputs": [],
   "source": [
    "# plot number of 2's every four throws in a histogram\n",
    "\n",
    "fig, axs = plt.subplots(figsize=(12,8))\n",
    "axs.hist(num_twos_list, color=\"SkyBlue\", edgecolor=\"Black\", bins=[0, 1, 2, 3, 4, 5])\n",
    "plt.title(\"Distribution of Number of 2's\\nin Each Group of 4 Throws\", fontsize=30)\n",
    "axs.set_xlabel(\"Number of 2's\", fontsize=25)\n",
    "axs.set_ylabel(\"Number of groups of 4 throws\", fontsize=25)\n",
    "axs.set_xticks(np.arange(0, 5, step=1))\n",
    "axs.tick_params(labelsize=15)\n",
    "plt.show()"
   ]
  },
  {
   "cell_type": "markdown",
   "metadata": {},
   "source": [
    "## Task 3: Calculate the proportions of 3's and 6's after every 50 throws"
   ]
  },
  {
   "cell_type": "code",
   "execution_count": null,
   "metadata": {},
   "outputs": [],
   "source": [
    "prop_threes_list = []\n",
    "prop_sixes_list = []\n",
    "\n",
    "for i in range(0, 351, 50):\n",
    "    fifty_throws = all_die_throws[i:i+50]\n",
    "    \n",
    "    num_threes = fifty_throws.count(3)\n",
    "    num_sixes = fifty_throws.count(6)\n",
    "    \n",
    "    prop_threes = num_threes/50\n",
    "    prop_sixes = num_sixes/50\n",
    "    \n",
    "    prop_threes_list.append(prop_threes)\n",
    "    prop_sixes_list.append(prop_sixes)\n",
    "    \n",
    "\n",
    "print(\"Proportion of 3's every 50 throws:\")\n",
    "print(prop_threes_list)\n",
    "print()\n",
    "print(\"Proportion of 6's every 50 throws:\")\n",
    "print(prop_sixes_list)"
   ]
  },
  {
   "cell_type": "markdown",
   "metadata": {},
   "source": [
    "## Task 4: Calculate the proportions of 3's and 6's after every 500 throws for 4000 die throws"
   ]
  },
  {
   "cell_type": "code",
   "execution_count": null,
   "metadata": {},
   "outputs": [],
   "source": [
    "# simulate 4000 die throws\n",
    "\n",
    "all_die_throws = []\n",
    "\n",
    "for i in range(4000):\n",
    "    \n",
    "    throw = random.randint(1,6)\n",
    "    all_die_throws.append(throw)\n",
    "\n",
    "    \n",
    "# calculate the proportion 3's and 6's after every 500 throws\n",
    "\n",
    "prop_threes_list = []\n",
    "prop_sixes_list = []\n",
    "\n",
    "# (insert code below this line but above print statements)\n",
    "\n",
    "\n",
    "    \n",
    "\n",
    "print(\"Proportion of 3's every 500 throws:\")\n",
    "print(prop_threes_list)\n",
    "print()\n",
    "print(\"Proportion of 6's every 500 throws:\")\n",
    "print(prop_sixes_list)"
   ]
  },
  {
   "cell_type": "markdown",
   "metadata": {},
   "source": [
    "<p>\n",
    "<details><summary>Click to show solution</summary><br>\n",
    "    \n",
    "```python\n",
    "# simulate 4000 die throws\n",
    "all_die_throws = []\n",
    "\n",
    "for i in range(4000):\n",
    "    \n",
    "    throw = random.randint(1,6)\n",
    "    all_die_throws.append(throw)\n",
    "    \n",
    "# calculate the proportion 3's and 6's after every 500 throws\n",
    "prop_threes_list = []\n",
    "prop_sixes_list = []\n",
    "\n",
    "for i in range(0, 3501, 500):\n",
    "    fivehundred_throws = all_die_throws[i:i+500]\n",
    "    \n",
    "    num_threes = fivehundred_throws.count(3)\n",
    "    num_sixes = fivehundred_throws.count(6)\n",
    "    \n",
    "    prop_threes = num_threes/500\n",
    "    prop_sixes = num_sixes/500\n",
    "    \n",
    "    prop_threes_list.append(prop_threes)\n",
    "    prop_sixes_list.append(prop_sixes)\n",
    "    \n",
    "\n",
    "print(\"Proportion of 3's every 500 throws:\")\n",
    "print(prop_threes_list)\n",
    "print()\n",
    "print(\"Proportion of 6's every 500 throws:\")\n",
    "print(prop_sixes_list)\n",
    "```\n",
    "\n",
    "</details>\n",
    "</p>"
   ]
  },
  {
   "cell_type": "code",
   "execution_count": null,
   "metadata": {},
   "outputs": [],
   "source": []
  }
 ],
 "metadata": {
  "kernelspec": {
   "display_name": "Python 3",
   "language": "python",
   "name": "python3"
  },
  "language_info": {
   "codemirror_mode": {
    "name": "ipython",
    "version": 3
   },
   "file_extension": ".py",
   "mimetype": "text/x-python",
   "name": "python",
   "nbconvert_exporter": "python",
   "pygments_lexer": "ipython3",
   "version": "3.4.3"
  }
 },
 "nbformat": 4,
 "nbformat_minor": 2
}
