{
 "cells": [
  {
   "cell_type": "markdown",
   "metadata": {},
   "source": [
    "### Import packages"
   ]
  },
  {
   "cell_type": "code",
   "execution_count": 1,
   "metadata": {},
   "outputs": [],
   "source": [
    "# import packages\n",
    "import pandas as pd\n",
    "import numpy as np"
   ]
  },
  {
   "cell_type": "markdown",
   "metadata": {},
   "source": [
    "## Task 1"
   ]
  },
  {
   "cell_type": "code",
   "execution_count": 2,
   "metadata": {},
   "outputs": [
    {
     "name": "stdout",
     "output_type": "stream",
     "text": [
      "0.3333333333333333\n"
     ]
    }
   ],
   "source": [
    "prob_2 = 1/6\n",
    "prob_3 = 1/6\n",
    "\n",
    "prob_2_or_3 = prob_2 + prob_3\n",
    "\n",
    "print(prob_2_or_3)"
   ]
  },
  {
   "cell_type": "markdown",
   "metadata": {},
   "source": [
    "<p>\n",
    "<details><summary>Click to show answer</summary><br>\n",
    "    \n",
    "`0.3333333333333333`\n",
    "\n",
    "</details>\n",
    "</p>\n",
    "\n",
    "<p>\n",
    "<details><summary>Click to show solution</summary><br>\n",
    "    \n",
    "```python\n",
    "prob_2 = 1/6\n",
    "prob_3 = 1/6\n",
    "\n",
    "prob_2_or_3 = prob_2 + prob_3\n",
    "\n",
    "print(prob_2_or_3)\n",
    "```\n",
    "\n",
    "</details>\n",
    "</p>"
   ]
  },
  {
   "cell_type": "markdown",
   "metadata": {},
   "source": [
    "## Task 2"
   ]
  },
  {
   "cell_type": "code",
   "execution_count": 3,
   "metadata": {
    "scrolled": true
   },
   "outputs": [
    {
     "data": {
      "text/html": [
       "<div>\n",
       "<style>\n",
       "    .dataframe thead tr:only-child th {\n",
       "        text-align: right;\n",
       "    }\n",
       "\n",
       "    .dataframe thead th {\n",
       "        text-align: left;\n",
       "    }\n",
       "\n",
       "    .dataframe tbody tr th {\n",
       "        vertical-align: top;\n",
       "    }\n",
       "</style>\n",
       "<table border=\"1\" class=\"dataframe\">\n",
       "  <thead>\n",
       "    <tr style=\"text-align: right;\">\n",
       "      <th></th>\n",
       "      <th>Boys</th>\n",
       "      <th>Girls</th>\n",
       "      <th>Total</th>\n",
       "    </tr>\n",
       "    <tr>\n",
       "      <th>Breathlessness</th>\n",
       "      <th></th>\n",
       "      <th></th>\n",
       "      <th></th>\n",
       "    </tr>\n",
       "  </thead>\n",
       "  <tbody>\n",
       "    <tr>\n",
       "      <th>Yes</th>\n",
       "      <td>231</td>\n",
       "      <td>285</td>\n",
       "      <td>516</td>\n",
       "    </tr>\n",
       "    <tr>\n",
       "      <th>No</th>\n",
       "      <td>127</td>\n",
       "      <td>89</td>\n",
       "      <td>516</td>\n",
       "    </tr>\n",
       "    <tr>\n",
       "      <th>Total</th>\n",
       "      <td>358</td>\n",
       "      <td>374</td>\n",
       "      <td>732</td>\n",
       "    </tr>\n",
       "  </tbody>\n",
       "</table>\n",
       "</div>"
      ],
      "text/plain": [
       "                Boys  Girls  Total\n",
       "Breathlessness                    \n",
       "Yes              231    285    516\n",
       "No               127     89    516\n",
       "Total            358    374    732"
      ]
     },
     "metadata": {},
     "output_type": "display_data"
    }
   ],
   "source": [
    "# import dataset, set index to \"Breathlessness\"\n",
    "breath_data = pd.read_csv(\"datasets/breathlessness.csv\")\n",
    "breath_data = breath_data.set_index(\"Breathlessness\")\n",
    "\n",
    "display(breath_data.head())"
   ]
  },
  {
   "cell_type": "code",
   "execution_count": 6,
   "metadata": {},
   "outputs": [
    {
     "name": "stdout",
     "output_type": "stream",
     "text": [
      "0.7049180327868853\n"
     ]
    }
   ],
   "source": [
    "# calculate the probability of suffering from breathlessness\n",
    "num_breathless = breath_data.loc['Yes', 'Total']\n",
    "total_people = breath_data.loc['Total', 'Total']\n",
    "\n",
    "prob_breathless = num_breathless / total_people\n",
    "print(prob_breathless)"
   ]
  },
  {
   "cell_type": "code",
   "execution_count": 9,
   "metadata": {},
   "outputs": [
    {
     "data": {
      "text/plain": [
       "285"
      ]
     },
     "execution_count": 9,
     "metadata": {},
     "output_type": "execute_result"
    }
   ],
   "source": [
    "breath_data.loc['Yes','Girls']"
   ]
  },
  {
   "cell_type": "markdown",
   "metadata": {},
   "source": [
    "<p>\n",
    "<details><summary>Click to show answer</summary><br>\n",
    "\n",
    "`0.7049180327868853`\n",
    "\n",
    "</details>\n",
    "</p>\n",
    "\n",
    "<p>\n",
    "<details><summary>Click to show solution</summary><br>\n",
    "\n",
    "```python\n",
    "# calculate the probability of suffering from breathlessness\n",
    "num_breathless = breath_data.loc['Yes', 'Total']\n",
    "total_people = breath_data.loc['Total', 'Total']\n",
    "\n",
    "prob_breathless = num_breathless/total_people\n",
    "print(prob_breathless)\n",
    "```\n",
    "\n",
    "</details>\n",
    "</p>"
   ]
  },
  {
   "cell_type": "markdown",
   "metadata": {},
   "source": [
    "## Task 3"
   ]
  },
  {
   "cell_type": "code",
   "execution_count": 10,
   "metadata": {},
   "outputs": [
    {
     "data": {
      "text/html": [
       "<div>\n",
       "<style>\n",
       "    .dataframe thead tr:only-child th {\n",
       "        text-align: right;\n",
       "    }\n",
       "\n",
       "    .dataframe thead th {\n",
       "        text-align: left;\n",
       "    }\n",
       "\n",
       "    .dataframe tbody tr th {\n",
       "        vertical-align: top;\n",
       "    }\n",
       "</style>\n",
       "<table border=\"1\" class=\"dataframe\">\n",
       "  <thead>\n",
       "    <tr style=\"text-align: right;\">\n",
       "      <th></th>\n",
       "      <th>Boys</th>\n",
       "      <th>Girls</th>\n",
       "      <th>Total</th>\n",
       "    </tr>\n",
       "    <tr>\n",
       "      <th>Breathlessness</th>\n",
       "      <th></th>\n",
       "      <th></th>\n",
       "      <th></th>\n",
       "    </tr>\n",
       "  </thead>\n",
       "  <tbody>\n",
       "    <tr>\n",
       "      <th>Yes</th>\n",
       "      <td>231</td>\n",
       "      <td>285</td>\n",
       "      <td>516</td>\n",
       "    </tr>\n",
       "    <tr>\n",
       "      <th>No</th>\n",
       "      <td>127</td>\n",
       "      <td>89</td>\n",
       "      <td>516</td>\n",
       "    </tr>\n",
       "    <tr>\n",
       "      <th>Total</th>\n",
       "      <td>358</td>\n",
       "      <td>374</td>\n",
       "      <td>732</td>\n",
       "    </tr>\n",
       "  </tbody>\n",
       "</table>\n",
       "</div>"
      ],
      "text/plain": [
       "                Boys  Girls  Total\n",
       "Breathlessness                    \n",
       "Yes              231    285    516\n",
       "No               127     89    516\n",
       "Total            358    374    732"
      ]
     },
     "metadata": {},
     "output_type": "display_data"
    }
   ],
   "source": [
    "display(breath_data.head())"
   ]
  },
  {
   "cell_type": "code",
   "execution_count": 11,
   "metadata": {},
   "outputs": [
    {
     "name": "stdout",
     "output_type": "stream",
     "text": [
      "0.7620320855614974\n"
     ]
    }
   ],
   "source": [
    "# calculate the probability of breathlessness for a participant\n",
    "# given that this participant is a girl\n",
    "num_breathless_girls = breath_data.loc['Yes','Girls']\n",
    "num_girls = breath_data.loc['Total','Girls']\n",
    "\n",
    "prob_breathless_girl = num_breathless_girls / num_girls\n",
    "\n",
    "print(prob_breathless_girl)"
   ]
  },
  {
   "cell_type": "code",
   "execution_count": 12,
   "metadata": {},
   "outputs": [
    {
     "name": "stdout",
     "output_type": "stream",
     "text": [
      "0.6452513966480447\n"
     ]
    }
   ],
   "source": [
    "# calculate the probability of breathlessness for a participant\n",
    "# given that this participant is a boy\n",
    "num_breathless_girls = breath_data.loc['Yes','Boys']\n",
    "num_girls = breath_data.loc['Total','Boys']\n",
    "\n",
    "prob_breathless_girl = num_breathless_girls / num_girls\n",
    "\n",
    "print(prob_breathless_girl)\n"
   ]
  },
  {
   "cell_type": "markdown",
   "metadata": {},
   "source": [
    "<p>\n",
    "<details><summary>Click to show answer</summary><br>\n",
    "\n",
    "`0.7620320855614974`\n",
    "\n",
    "</details>\n",
    "</p>\n",
    "\n",
    "<p>\n",
    "<details><summary>Click to show solution</summary><br>\n",
    "\n",
    "```python\n",
    "# calculate the probability of breathlessness for a participant, given that this participant is a girl\n",
    "num_breathless_girls = breath_data.loc['Yes', 'Girls']\n",
    "num_girls = breath_data.loc['Total', 'Girls']\n",
    "\n",
    "prob_breathless_girl = num_breathless_girls/num_girls\n",
    "\n",
    "print(prob_breathless_girl)\n",
    "```\n",
    "\n",
    "</details>\n",
    "</p>"
   ]
  },
  {
   "cell_type": "markdown",
   "metadata": {},
   "source": [
    "## Task 4"
   ]
  },
  {
   "cell_type": "code",
   "execution_count": 13,
   "metadata": {},
   "outputs": [
    {
     "name": "stdout",
     "output_type": "stream",
     "text": [
      "0.3547486033519553\n"
     ]
    }
   ],
   "source": [
    "# calculate the probability of not breathlessness for a participant\n",
    "# given that this participant is a boy\n",
    "num_breathless_girls = breath_data.loc['No','Boys']\n",
    "num_girls = breath_data.loc['Total','Boys']\n",
    "\n",
    "prob_breathless_girl = num_breathless_girls / num_girls\n",
    "\n",
    "print(prob_breathless_girl)"
   ]
  },
  {
   "cell_type": "markdown",
   "metadata": {},
   "source": [
    "<p>\n",
    "<details><summary>Click to show answer</summary><br>\n",
    "\n",
    "`0.6452513966480447`\n",
    "\n",
    "</details>\n",
    "</p>\n",
    "\n",
    "<p>\n",
    "<details><summary>Click to show solution</summary><br>\n",
    "\n",
    "```python\n",
    "# calculate the probability of breathlessness for a participant, given that this participant is a boy\n",
    "num_breathless_boys = breath_data.loc['Yes', 'Boys']\n",
    "num_boys = breath_data.loc['Total', 'Boys']\n",
    "\n",
    "prob_breathless_boy = num_breathless_boys/num_boys\n",
    "\n",
    "print(prob_breathless_boy)\n",
    "```\n",
    "\n",
    "</details>\n",
    "</p>"
   ]
  },
  {
   "cell_type": "markdown",
   "metadata": {},
   "source": [
    "## Task 5"
   ]
  },
  {
   "cell_type": "code",
   "execution_count": null,
   "metadata": {},
   "outputs": [],
   "source": [
    "# calculate the probability of TB, given a positive test\n",
    "prob_b_given_a =\n",
    "prob_a = \n",
    "prob_b = \n",
    "\n",
    "prob_tb_postest = \n",
    "\n",
    "print(prob_tb_postest)"
   ]
  },
  {
   "cell_type": "markdown",
   "metadata": {},
   "source": [
    "<p>\n",
    "<details><summary>Click to show answer</summary><br>\n",
    "\n",
    "`0.9191757404129792`\n",
    "\n",
    "</details>\n",
    "</p>\n",
    "\n",
    "<p>\n",
    "<details><summary>Click to show solution</summary><br>\n",
    "\n",
    "```python\n",
    "# calculate the probability of TB, given a positive test\n",
    "prob_b_given_a = 0.99808\n",
    "prob_a = 1561/2373\n",
    "prob_b = 1695/2373\n",
    "\n",
    "prob_tb_postest = (prob_b_given_a*prob_a)/prob_b\n",
    "\n",
    "print(prob_tb_postest)\n",
    "```\n",
    "\n",
    "</details>\n",
    "</p>"
   ]
  },
  {
   "cell_type": "code",
   "execution_count": null,
   "metadata": {},
   "outputs": [],
   "source": []
  }
 ],
 "metadata": {
  "kernelspec": {
   "display_name": "Python 3",
   "language": "python",
   "name": "python3"
  },
  "language_info": {
   "codemirror_mode": {
    "name": "ipython",
    "version": 3
   },
   "file_extension": ".py",
   "mimetype": "text/x-python",
   "name": "python",
   "nbconvert_exporter": "python",
   "pygments_lexer": "ipython3",
   "version": "3.4.3"
  }
 },
 "nbformat": 4,
 "nbformat_minor": 2
}
