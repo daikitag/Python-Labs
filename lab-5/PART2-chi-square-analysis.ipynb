{
 "cells": [
  {
   "cell_type": "markdown",
   "metadata": {},
   "source": [
    "## Part 2: Hypothesis Tests for Chi-Squared Analysis of 2x2 Tables\n",
    "\n",
    "We are again using the *NYTimes* COVID-19 data. This time our dataset contains cumulative case and deaths counts for states across the US, instead of the counts of new cases and deaths per day.\n",
    "\n",
    "***\n",
    "\n",
    "### Load packages and dataset"
   ]
  },
  {
   "cell_type": "code",
   "execution_count": null,
   "metadata": {},
   "outputs": [],
   "source": [
    "# import packages\n",
    "\n",
    "import pandas as pd\n",
    "import numpy as np\n",
    "\n",
    "from scipy.stats import chi2_contingency"
   ]
  },
  {
   "cell_type": "code",
   "execution_count": null,
   "metadata": {},
   "outputs": [],
   "source": [
    "# load dataset with cumulative counts\n",
    "\n",
    "us_state_cuml = pd.read_csv(\"datasets/covid-19-data-master/us-states.csv\")\n",
    "\n",
    "display(us_state_cuml.head())"
   ]
  },
  {
   "cell_type": "markdown",
   "metadata": {},
   "source": [
    "## Task 1: Compare the proportion of COVID-19 deaths to COVID-19 survivals by April 1 in New York and California\n",
    "\n",
    "Let us first extract the case and death counts for all states as of April 1st (2020-04-01).\n",
    "\n",
    "**Run the cell below in which we do this.**"
   ]
  },
  {
   "cell_type": "code",
   "execution_count": null,
   "metadata": {},
   "outputs": [],
   "source": [
    "april_data = us_state_cuml[us_state_cuml.date == \"2020-04-01\"]\n",
    "\n",
    "# set index\n",
    "april_data = april_data.set_index(\"state\")\n",
    "\n",
    "print(april_data.shape)\n",
    "display(april_data.head())"
   ]
  },
  {
   "cell_type": "markdown",
   "metadata": {},
   "source": [
    "Now we will extract the rows that contain the data for our two states of interest for this task: New York and California.\n",
    "\n",
    "**Complete the code below to do this.**"
   ]
  },
  {
   "cell_type": "code",
   "execution_count": null,
   "metadata": {},
   "outputs": [],
   "source": [
    "ny_data = \n",
    "ca_data = \n",
    "\n",
    "print(ny_data)\n",
    "print(ca_data)"
   ]
  },
  {
   "cell_type": "markdown",
   "metadata": {},
   "source": [
    "<p>\n",
    "<details><summary>Click to show solution</summary><br>\n",
    "\n",
    "```python\n",
    "ny_data = april_data.loc[\"New York\"]\n",
    "ca_data = april_data.loc[\"California\"]\n",
    "```\n",
    "\n",
    "</details>\n",
    "</p>\n",
    "\n",
    "Now, we will pull out our values of interest:\n",
    "1. The number of COVID-19 patients who had died by April 1st in each state.\n",
    "2. The number of COVID-19 patients who had survived by April 1st in each state (this is the number of cases *minus* the number of deaths).\n",
    "\n",
    "**Run the cell below to do this.**"
   ]
  },
  {
   "cell_type": "code",
   "execution_count": null,
   "metadata": {},
   "outputs": [],
   "source": [
    "ny_dead = ny_data.deaths\n",
    "ny_not_dead = ny_data.cases - ny_data.deaths\n",
    "print(ny_dead, ny_not_dead)\n",
    "\n",
    "ca_dead = ca_data.deaths\n",
    "ca_not_dead = ca_data.cases - ca_data.deaths\n",
    "print(ca_dead, ca_not_dead)"
   ]
  },
  {
   "cell_type": "markdown",
   "metadata": {},
   "source": [
    "Next, **calculate and print out the proportion of deaths to cases for each state.**"
   ]
  },
  {
   "cell_type": "code",
   "execution_count": null,
   "metadata": {},
   "outputs": [],
   "source": [
    "ny_prop = ny_data.deaths/ny_data.cases\n",
    "ca_prop = ca_data.deaths/ca_data.cases\n",
    "\n",
    "print(ny_prop)\n",
    "print(ca_prop)"
   ]
  },
  {
   "cell_type": "markdown",
   "metadata": {},
   "source": [
    "Looing at the raw data obtained above, it is easy to say \"Woah NY had 1941 deaths by April 1st and CA only had 212. And the proportion of deaths to cases is higher in New York. So many more people are dying in NY than in CA!\" But, ***this is not necessarily true!!*** To determine whether or not this difference in proportions is significantly different or not, we should perform a chi-square test.\n",
    "\n",
    "For this test, our hypotheses will be:\n",
    "> $H_0$: there is no association between dying of COVID-19 and the state in which one lives.<br>\n",
    "> $H_A$: there is an association.\n",
    "\n",
    "To perform a chi-square test in Python we use the following code:\n",
    ">```python\n",
    "> chi2, p, dof, expected = chi2_contingency(contig_table)\n",
    ">```\n",
    "\n",
    "[Read more about the `chi2_contingency` function here](https://docs.scipy.org/doc/scipy/reference/generated/scipy.stats.chi2_contingency.html).\n",
    "\n",
    "This function performs the chi-square test for a provided contingency table and then returns 4 values: the chi-square test statistic, the p-value, the degrees of freedom and a table of expected counts.\n",
    "\n",
    "So, first we need a contingency table. The code below creates this contingency table. **Run the cell.**"
   ]
  },
  {
   "cell_type": "code",
   "execution_count": null,
   "metadata": {},
   "outputs": [],
   "source": [
    "contig_table1 = pd.DataFrame([[ny_dead, ny_not_dead],\n",
    "                             [ca_dead, ca_not_dead]], columns=[\"dead\", \"not dead\"], index=[\"NY\", \"CA\"])\n",
    "display(contig_table1)"
   ]
  },
  {
   "cell_type": "markdown",
   "metadata": {},
   "source": [
    "**Now run the cell below to perform the chi-square test.**"
   ]
  },
  {
   "cell_type": "code",
   "execution_count": null,
   "metadata": {},
   "outputs": [],
   "source": [
    "chi2, p, dof, expected = chi2_contingency(contig_table1)\n",
    "\n",
    "print(\"chi2:\", chi2)\n",
    "print(\"p:\", p)\n",
    "print(\"dof:\", dof)\n",
    "print(\"expected:\", expected)"
   ]
  },
  {
   "cell_type": "markdown",
   "metadata": {},
   "source": [
    "With a p-value of `0.353` we do not have sufficient evidence to reject our null hypothesis. There does not appear to be any statistically significant association between dying of COVID-19 and the state in which one lives."
   ]
  },
  {
   "cell_type": "markdown",
   "metadata": {},
   "source": [
    "## Task 2: Compare the proportion of COVID-19 deaths to COVID-19 survivals by April 1 in New York and Washington\n",
    "\n",
    "Follow the same steps as we used above to perform the same hypothesis test, but this time for New York and Washington."
   ]
  },
  {
   "cell_type": "code",
   "execution_count": null,
   "metadata": {},
   "outputs": [],
   "source": [
    "# obtain April data for states of interest\n",
    "ny_data = \n",
    "wa_data = \n",
    "\n",
    "# obtain data points of interest\n",
    "ny_dead = ny_data.deaths\n",
    "ny_not_dead = ny_data.cases - ny_data.deaths\n",
    "print(ny_dead, ny_not_dead)\n",
    "\n",
    "wa_dead = wa_data.deaths\n",
    "wa_not_dead = wa_data.cases - wa_data.deaths\n",
    "print(ny_dead, ny_not_dead)"
   ]
  },
  {
   "cell_type": "markdown",
   "metadata": {},
   "source": [
    "Next, **calculate and print out the proportion of deaths to cases for each state.**"
   ]
  },
  {
   "cell_type": "code",
   "execution_count": null,
   "metadata": {},
   "outputs": [],
   "source": []
  },
  {
   "cell_type": "markdown",
   "metadata": {},
   "source": [
    "**Create the appropriate contingency table.**"
   ]
  },
  {
   "cell_type": "code",
   "execution_count": null,
   "metadata": {},
   "outputs": [],
   "source": []
  },
  {
   "cell_type": "markdown",
   "metadata": {},
   "source": [
    "**Perform a chi-square test.**"
   ]
  },
  {
   "cell_type": "code",
   "execution_count": null,
   "metadata": {},
   "outputs": [],
   "source": []
  },
  {
   "cell_type": "markdown",
   "metadata": {},
   "source": [
    "***What conclusion can we make?***\n",
    "\n",
    "<p>\n",
    "<details><summary>Click to show answer</summary><br>\n",
    "\n",
    "```\n",
    "chi2: 99.79827316939875\n",
    "p: 1.687373143636742e-23\n",
    "dof: 1\n",
    "expected: [[ 2053.23055087 81835.76944913]\n",
    " [  136.76944913  5451.23055087]]\n",
    "```\n",
    "\n",
    "</details>\n",
    "</p>\n",
    "\n",
    "<p>\n",
    "<details><summary>Click to show solutions</summary><br>\n",
    "\n",
    "```python\n",
    "# obtain April data for states of interest\n",
    "\n",
    "ny_data = april_data.loc[\"New York\"]\n",
    "wa_data = april_data.loc[\"Washington\"]\n",
    "\n",
    "# obtain data points of interest\n",
    "\n",
    "ny_dead = ny_data.deaths\n",
    "ny_not_dead = ny_data.cases - ny_data.deaths\n",
    "print(ny_dead, ny_not_dead)\n",
    "\n",
    "wa_dead = wa_data.deaths\n",
    "wa_not_dead = wa_data.cases - wa_data.deaths\n",
    "print(ny_dead, ny_not_dead)\n",
    "\n",
    "# calculate proportions\n",
    "\n",
    "ny_prop = ny_data.deaths/ny_data.cases\n",
    "wa_prop = wa_data.deaths/wa_data.cases\n",
    "\n",
    "print(ny_prop)\n",
    "print(wa_prop)\n",
    "\n",
    "# create contingency table\n",
    "\n",
    "contig_table2 = pd.DataFrame([[ny_dead, ny_not_dead],\n",
    "                             [wa_dead, wa_not_dead]], columns=[\"dead\", \"not dead\"], index=[\"NY\", \"WA\"])\n",
    "contig_table2\n",
    "\n",
    "## chi-square test\n",
    "\n",
    "chi2, p, dof, expected = chi2_contingency(contig_table2)\n",
    "\n",
    "print(\"chi2:\", chi2)\n",
    "print(\"p:\", p)\n",
    "print(\"dof:\", dof)\n",
    "print(\"expected:\", expected)\n",
    "\n",
    "```\n",
    "\n",
    "</details>\n",
    "</p>"
   ]
  },
  {
   "cell_type": "markdown",
   "metadata": {},
   "source": [
    "## Task 3: We can also do a similar chi-square test using a contingency table of COVID-19 cases and state population.\n",
    "\n",
    "We will do this for New York and California."
   ]
  },
  {
   "cell_type": "code",
   "execution_count": null,
   "metadata": {},
   "outputs": [],
   "source": [
    "# load state population dataset\n",
    "\n",
    "usa_pop = pd.read_csv(\"datasets/usa-pop-2019.csv\", index_col=\"State\")\n",
    "\n",
    "display(usa_pop.head())"
   ]
  },
  {
   "cell_type": "code",
   "execution_count": null,
   "metadata": {},
   "outputs": [],
   "source": [
    "# obtain populations of these states\n",
    "\n",
    "ny_pop = usa_pop.loc[\"New York\", \"2019_pop\"]\n",
    "ca_pop = usa_pop.loc[\"California\", \"2019_pop\"]"
   ]
  },
  {
   "cell_type": "code",
   "execution_count": null,
   "metadata": {},
   "outputs": [],
   "source": [
    "# create table of NY vs CA\n",
    "\n",
    "# the following variables have already been defined above\n",
    "    # ny_data\n",
    "    # ca_data\n",
    "# and we can access the number of cases for each state like this:\n",
    "    # ny_data.cases\n",
    "    # ca_data.cases\n",
    "\n",
    "ny_ca = pd.DataFrame([[ny_data.cases, ny_pop],\n",
    "                      [ca_data.cases, ca_pop]], columns=[\"cases\", \"population\"], index=[\"NY\", \"CA\"])\n",
    "display(ny_ca)"
   ]
  },
  {
   "cell_type": "code",
   "execution_count": null,
   "metadata": {},
   "outputs": [],
   "source": [
    "# compute and print proportions of cases to population\n",
    "\n"
   ]
  },
  {
   "cell_type": "markdown",
   "metadata": {},
   "source": [
    "<p>\n",
    "<details><summary>Click to show answer</summary><br>\n",
    "\n",
    "```\n",
    "0.004312269614802144\n",
    "0.000248429454348848\n",
    "```\n",
    "\n",
    "</details>\n",
    "</p>"
   ]
  },
  {
   "cell_type": "code",
   "execution_count": null,
   "metadata": {},
   "outputs": [],
   "source": [
    "## chi-square test\n",
    "\n"
   ]
  },
  {
   "cell_type": "markdown",
   "metadata": {},
   "source": [
    "***What conclusion can we make?***\n",
    "\n",
    "<p>\n",
    "<details><summary>Click to show answer</summary><br>\n",
    "\n",
    "```\n",
    "chi2: 135065.92463718733\n",
    "p: 0.0\n",
    "dof: 1\n",
    "expected: [[3.09985200e+04 1.95064515e+07]\n",
    " [6.27064800e+04 3.94593325e+07]]\n",
    "```\n",
    "\n",
    "</details>\n",
    "</p>"
   ]
  }
 ],
 "metadata": {
  "kernelspec": {
   "display_name": "Python 3",
   "language": "python",
   "name": "python3"
  },
  "language_info": {
   "codemirror_mode": {
    "name": "ipython",
    "version": 3
   },
   "file_extension": ".py",
   "mimetype": "text/x-python",
   "name": "python",
   "nbconvert_exporter": "python",
   "pygments_lexer": "ipython3",
   "version": "3.7.3"
  }
 },
 "nbformat": 4,
 "nbformat_minor": 2
}
