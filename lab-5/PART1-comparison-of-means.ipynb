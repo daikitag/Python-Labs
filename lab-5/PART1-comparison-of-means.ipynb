{
 "cells": [
  {
   "cell_type": "markdown",
   "metadata": {},
   "source": [
    "## Part 1: Hypothesis Tests for Comparing Two Means\n",
    "\n",
    "For this lab, we will be using [COVID-19 data](https://github.com/nytimes/covid-19-data) collected by the *New York Times*.\n",
    "\n",
    "These data include daily counts of COVID-19 cases and deaths in all states and counties of the US (including US territories).\n",
    "\n",
    "***\n",
    "\n",
    "### Load packages and dataset"
   ]
  },
  {
   "cell_type": "code",
   "execution_count": null,
   "metadata": {},
   "outputs": [],
   "source": [
    "# import packages\n",
    "\n",
    "import pandas as pd\n",
    "import numpy as np\n",
    "from matplotlib import pyplot as plt\n",
    "\n",
    "from scipy.stats import ttest_ind"
   ]
  },
  {
   "cell_type": "code",
   "execution_count": null,
   "metadata": {},
   "outputs": [],
   "source": [
    "# load dataset with NEW counts recorded each day\n",
    "\n",
    "us_state_perday = pd.read_csv(\"datasets/state_data_perday.csv\")\n",
    "\n",
    "display(us_state_perday.head())"
   ]
  },
  {
   "cell_type": "markdown",
   "metadata": {},
   "source": [
    "***\n",
    "## Task 1: Comparing mean case diagnoses and deaths in New York between first half and second half of March\n",
    "\n",
    "For this section we will use data on the number of new COVID-19 cases and deaths reported in New York over the most recent four-week period in the dataset.\n",
    "\n",
    "**Run the first two Task 1 cells in which we import this dataset, and then split this dataset into separate dataframes for each of the two week segments.**"
   ]
  },
  {
   "cell_type": "code",
   "execution_count": null,
   "metadata": {},
   "outputs": [],
   "source": [
    "# obtain entries for NY\n",
    "\n",
    "new_york = us_state_perday[us_state_perday.state == \"New York\"]\n",
    "\n",
    "# obtain entries for the past 4 weeks\n",
    "# last 4 weeks = last 28 days = last 28 entries\n",
    "\n",
    "new_york_4weeks = new_york.tail(28)\n",
    "\n",
    "print(new_york_4weeks.shape)\n",
    "display(new_york_4weeks)"
   ]
  },
  {
   "cell_type": "code",
   "execution_count": null,
   "metadata": {},
   "outputs": [],
   "source": [
    "# split into two dataframes each corresponding to 14 days\n",
    "\n",
    "ny_half1 = new_york_4weeks.iloc[0:14, :]\n",
    "ny_half2 = new_york_4weeks.iloc[14:, :]\n",
    "\n",
    "print(ny_half1.shape, ny_half2.shape)\n",
    "display(ny_half1, ny_half2)"
   ]
  },
  {
   "cell_type": "markdown",
   "metadata": {},
   "source": [
    "### Task 1a: Difference between mean number of *cases* in 1st half of March and mean number of *cases* in 2nd half of March (NY)\n",
    "\n",
    "Now, we will compare the means of the number of cases reported each day between the 1st half of March and the 2nd half of March.\n",
    "\n",
    "**Run the cell below** in which we pull out the case values in our dataframes that correspond to each 14-day period. We then compute the mean of the daily reported cases and print these mean values out."
   ]
  },
  {
   "cell_type": "code",
   "execution_count": null,
   "metadata": {},
   "outputs": [],
   "source": [
    "# pull out case values for each week\n",
    "\n",
    "ny_half1_case_vals = ny_half1[\"cases\"]\n",
    "ny_half2_case_vals = ny_half2[\"cases\"]\n",
    "\n",
    "# compute mean daily cases for each week\n",
    "\n",
    "mean_ny_half1 = np.mean(ny_half1_case_vals)\n",
    "mean_ny_half2 = np.mean(ny_half2_case_vals)\n",
    "\n",
    "print(mean_ny_half1)\n",
    "print(mean_ny_half2)"
   ]
  },
  {
   "cell_type": "markdown",
   "metadata": {},
   "source": [
    "In the cell below we will create a *box plot* to observe the distributions of the daily reported case counts in New York. These daily case counts are split between half 1 (Mar5-Mar18) and half 2 (Mar19-Apr1) so that we can observe differences in the distribution between these two time periods.\n",
    "\n",
    "**Run the cell below.**"
   ]
  },
  {
   "cell_type": "code",
   "execution_count": null,
   "metadata": {},
   "outputs": [],
   "source": [
    "# create a box plot to observe distributions of daily case counts\n",
    "# for 1st half and 2nd half of March respectively\n",
    "\n",
    "fig, axs = plt.subplots(figsize=(12,7))\n",
    "axs.boxplot([ny_half1_case_vals, ny_half2_case_vals])\n",
    "plt.title(\"Number of COVID cases reported per day for last 4 weeks (NY)\", fontsize=20)\n",
    "axs.set_xticklabels([\"Mar5-Mar18\", \"Mar19-Apr1\"])\n",
    "axs.set_ylabel(\"Number of cases reported per day\", fontsize=18)\n",
    "axs.tick_params(labelsize=15)\n",
    "plt.show()"
   ]
  },
  {
   "cell_type": "markdown",
   "metadata": {},
   "source": [
    "It appears that there is a difference in the distributions of daily reported cases between these two time periods. Let's perform a hypothesis test to determine whether or not the distributions of daily reported cases is significantly different between the two time periods. For this hypothesis test, our hypotheses are as follows:\n",
    "> $H_0$: there *is no difference* in the mean number of daily reported cases between the time periods ($\\mu_1=\\mu_2$).<br>\n",
    "> $H_A$: there *is a difference* in the mean number of daily reported cases between the time periods ($\\mu_1\\ne\\mu_2$).\n",
    "\n",
    "We will use a two-sample T-test which assumes our two samples have unequal variances (Welch's T-test). To perform this hypothesis test in Python we use the code:\n",
    ">```python\n",
    "> t_val, p_val = ttest_ind(sample1_vals, sample2_vals, equal_var=False)\n",
    ">```\n",
    "\n",
    "[Read more about the `ttest_ind` function here](https://docs.scipy.org/doc/scipy/reference/generated/scipy.stats.ttest_ind.html).\n",
    "\n",
    "**Run the cell below to perform this T-test.**"
   ]
  },
  {
   "cell_type": "code",
   "execution_count": null,
   "metadata": {},
   "outputs": [],
   "source": [
    "## TWO-SAMPLE T-TEST (WELCH'S T-TEST) ##\n",
    "\n",
    "# calculate test statistic and p-value\n",
    "\n",
    "t_val, p_val = ttest_ind(ny_half1_case_vals, ny_half2_case_vals, equal_var=False)\n",
    "\n",
    "print(\"Test statistic:\", t_val)\n",
    "print(\"p-value:\", p_val)"
   ]
  },
  {
   "cell_type": "markdown",
   "metadata": {},
   "source": [
    "$\\therefore$ with a significance level of $\\alpha = 0.05$ do we ***reject*** or ***accept*** the null hypothesis (i.e. is our p-value less than or greater than our signficance level)?\n",
    "\n",
    "<p>\n",
    "<details><summary>Click to show answer</summary><br>\n",
    "\n",
    "```\n",
    "Test statistic: -9.714027593945213\n",
    "p-value: 1.9538601309935193e-07\n",
    "```\n",
    "\n",
    "`1.9538601309935193e-07` is less than 0.05, so we ***reject*** the null hypothesis. There is statistically significant evidence that the mean number of daily reported cases in the 1st half of March is *different from* the mean number of daily reported cases in the 2nd half of March in New York. Specifically, because the mean number of cases for the 2nd half is greater, we can conclude that there is statistically significant evidence to suggest that the number of cases rose sharply over the past two weeks.\n",
    "\n",
    "</details>\n",
    "</p>"
   ]
  },
  {
   "cell_type": "markdown",
   "metadata": {},
   "source": [
    "### Task 1b: Difference between mean number of *deaths* in 1st half of March and mean number of *deaths* in 2nd half of March (NY)\n",
    "\n",
    "Now, we will compare the means of the number of *deaths* reported each day between the 1st half of March and the 2nd half of March.\n",
    "\n",
    "**Complete the code in the cell below** in order to pull out the death values in our dataframes that correspond to each 14-day period. Then compute the mean of the daily reported deaths in each time period and print these mean values out."
   ]
  },
  {
   "cell_type": "code",
   "execution_count": null,
   "metadata": {},
   "outputs": [],
   "source": [
    "# pull out death values for each week\n",
    "\n",
    "ny_half1_death_vals = \n",
    "ny_half2_death_vals = \n",
    "\n",
    "# compute mean daily deaths for each week\n",
    "\n",
    "mean_ny_half1 = \n",
    "mean_ny_half2 = \n",
    "\n",
    "print(mean_ny_half1)\n",
    "print(mean_ny_half2)"
   ]
  },
  {
   "cell_type": "markdown",
   "metadata": {},
   "source": [
    "<p>\n",
    "<details><summary>Click to show answer</summary><br>\n",
    "\n",
    "```\n",
    "1.9285714285714286\n",
    "136.71428571428572\n",
    "```\n",
    "\n",
    "</details>\n",
    "</p>\n",
    "\n",
    "<p>\n",
    "<details><summary>Click to show solution</summary><br>\n",
    "\n",
    "```python\n",
    "# pull out death values for each week\n",
    "\n",
    "ny_half1_death_vals = ny_half1[\"deaths\"]\n",
    "ny_half2_death_vals = ny_half2[\"deaths\"]\n",
    "\n",
    "# compute mean daily deaths for each week\n",
    "\n",
    "mean_ny_half1 = np.mean(ny_half1_death_vals)\n",
    "mean_ny_half2 = np.mean(ny_half2_death_vals)\n",
    "\n",
    "print(mean_ny_half1)\n",
    "print(mean_ny_half2)\n",
    "```\n",
    "\n",
    "</details>\n",
    "</p>"
   ]
  },
  {
   "cell_type": "markdown",
   "metadata": {},
   "source": [
    "**In the cell below complete the code to create a *box plot* to observe the distributions of the daily reported deaths in New York.**"
   ]
  },
  {
   "cell_type": "code",
   "execution_count": null,
   "metadata": {},
   "outputs": [],
   "source": [
    "# create a box plot to observe distributions of daily death counts\n",
    "# for 1st half and 2nd half of March respectively\n",
    "\n",
    "fig, axs = plt.subplots(figsize=(12,7))\n",
    "\n",
    "axs.boxplot([sample1_vals_here, sample2_vals_here]) ##fill in correct variables\n",
    "\n",
    "plt.title(\"Number of COVID deaths reported per day for last 4 weeks (NY)\", fontsize=20)\n",
    "axs.set_xticklabels([\"Mar5-Mar18\", \"Mar19-Apr1\"])\n",
    "axs.set_ylabel(\"Number of deaths reported per day\", fontsize=18)\n",
    "axs.tick_params(labelsize=15)\n",
    "plt.show()"
   ]
  },
  {
   "cell_type": "markdown",
   "metadata": {},
   "source": [
    "<p>\n",
    "<details><summary>Click to show solution</summary><br>\n",
    "\n",
    "```python\n",
    "fig, axs = plt.subplots(figsize=(12,7))\n",
    "\n",
    "axs.boxplot([ny_half1_death_vals, ny_half2_death_vals])\n",
    "\n",
    "plt.title(\"Number of COVID deaths reported per day for last 4 weeks (NY)\", fontsize=20)\n",
    "axs.set_xticklabels([\"Mar5-Mar18\", \"Mar19-Apr1\"])\n",
    "axs.set_ylabel(\"Number of deaths reported per day\", fontsize=18)\n",
    "axs.tick_params(labelsize=15)\n",
    "plt.show()\n",
    "```\n",
    "\n",
    "</details>\n",
    "</p>"
   ]
  },
  {
   "cell_type": "markdown",
   "metadata": {},
   "source": [
    "**Finally, complete the code in the cell below to perform a T-test.**"
   ]
  },
  {
   "cell_type": "code",
   "execution_count": null,
   "metadata": {},
   "outputs": [],
   "source": [
    "# calculate test statistic and p-value\n",
    "\n",
    "##fill in correct variables\n",
    "t_val, p_val = ttest_ind(sample1_vals_here, sample2_vals_here, equal_var=False)\n",
    "\n",
    "print(\"Test statistic:\", t_val)\n",
    "print(\"p-value:\", p_val)"
   ]
  },
  {
   "cell_type": "markdown",
   "metadata": {},
   "source": [
    "$\\therefore$ with a significance level of $\\alpha = 0.05$ do we ***reject*** or ***accept*** the null hypothesis (i.e. is our p-value less than or greater than our signficance level)?\n",
    "\n",
    "<p>\n",
    "<details><summary>Click to show answer</summary><br>\n",
    "\n",
    "```\n",
    "Test statistic: -4.0600322328917064\n",
    "p-value: 0.00134719357246435\n",
    "```\n",
    "\n",
    "`0.00134719357246435` is less than 0.05, so we ***reject*** the null hypothesis. There is statistically significant evidence that the mean number of daily reported deaths in the 1st half of March is *different from* the mean number of daily reported deaths in the 2nd half of March in New York.\n",
    "\n",
    "</details>\n",
    "</p>\n",
    "\n",
    "\n",
    "<p>\n",
    "<details><summary>Click to show solution</summary><br>\n",
    "\n",
    "```python\n",
    "t_val, p_val = ttest_ind(ny_half1_death_vals, ny_half2_death_vals, equal_var=False)\n",
    "```\n",
    "\n",
    "</details>\n",
    "</p>"
   ]
  },
  {
   "cell_type": "markdown",
   "metadata": {},
   "source": [
    "## Task 2: Comparing mean deaths in Nebraska between first half and second half of March\n",
    "\n",
    "Practice our hypothesis tests carried out above for a new state, Nebraska.\n",
    "\n",
    "**Complete the code in the cells below.**"
   ]
  },
  {
   "cell_type": "code",
   "execution_count": null,
   "metadata": {},
   "outputs": [],
   "source": [
    "# obtain entries for NE\n",
    "\n",
    "nebraska = \n",
    "\n",
    "# obtain entries for the past 4 weeks\n",
    "# last 4 weeks = last 28 days = last 28 entries\n",
    "\n",
    "nebraska_4weeks = \n",
    "\n",
    "print(nebraska_4weeks.shape)\n",
    "display(nebraska_4weeks)"
   ]
  },
  {
   "cell_type": "code",
   "execution_count": null,
   "metadata": {},
   "outputs": [],
   "source": [
    "# split into two dataframes each corresponding to 14 days\n",
    "\n",
    "ne_half1 = \n",
    "ne_half2 = \n",
    "\n",
    "print(ne_half1.shape, ne_half2.shape)\n",
    "display(ne_half1, ne_half2)"
   ]
  },
  {
   "cell_type": "code",
   "execution_count": null,
   "metadata": {},
   "outputs": [],
   "source": [
    "# pull out death values for each week\n",
    "\n",
    "ne_half1_death_vals = \n",
    "ne_half2_death_vals = \n",
    "\n",
    "# compute mean daily deaths for each week\n",
    "\n",
    "mean_ne_half1 = \n",
    "mean_ne_half2 = \n",
    "\n",
    "print(mean_ne_half1)\n",
    "print(mean_ne_half2)"
   ]
  },
  {
   "cell_type": "code",
   "execution_count": null,
   "metadata": {},
   "outputs": [],
   "source": [
    "# create a box plot to observe distributions of daily death counts\n",
    "# for 1st half and 2nd half of March respectively\n",
    "\n",
    "fig, axs = plt.subplots(figsize=(12,7))\n",
    "axs.boxplot([sample1_vals_here, sample2_vals_here])\n",
    "plt.title(\"Number of COVID deaths reported per day for last 4 weeks (NE)\", fontsize=20)\n",
    "axs.set_xticklabels([\"Mar5-Mar18\", \"Mar19-Apr1\"])\n",
    "axs.set_ylabel(\"Number of deaths reported per day\", fontsize=18)\n",
    "axs.tick_params(labelsize=15)\n",
    "plt.show()"
   ]
  },
  {
   "cell_type": "code",
   "execution_count": null,
   "metadata": {},
   "outputs": [],
   "source": [
    "# calculate test statistic and p-value for hypothesis test of difference in means\n",
    "\n",
    "t_val, p_val = ttest_ind(sample1_vals_here, sample2_vals_here, equal_var=False)\n",
    "\n",
    "print(\"Test statistic:\", t_val)\n",
    "print(\"p-value:\", p_val)"
   ]
  },
  {
   "cell_type": "markdown",
   "metadata": {},
   "source": [
    "<p>\n",
    "<details><summary>Click to show answer</summary><br>\n",
    "\n",
    "```\n",
    "Test statistic: -2.7993260539543776\n",
    "p-value: 0.014678471312875647\n",
    "```\n",
    "\n",
    "`0.014678471312875647` is less than 0.05, so we ***reject*** the null hypothesis. There is statistically significant evidence that the mean number of daily reported deaths in the 1st half of March is *different from* the mean number of daily reported deaths in the 2nd half of March in Nebraska.\n",
    "\n",
    "</details>\n",
    "</p>"
   ]
  }
 ],
 "metadata": {
  "kernelspec": {
   "display_name": "Python 3",
   "language": "python",
   "name": "python3"
  },
  "language_info": {
   "codemirror_mode": {
    "name": "ipython",
    "version": 3
   },
   "file_extension": ".py",
   "mimetype": "text/x-python",
   "name": "python",
   "nbconvert_exporter": "python",
   "pygments_lexer": "ipython3",
   "version": "3.7.3"
  }
 },
 "nbformat": 4,
 "nbformat_minor": 2
}
