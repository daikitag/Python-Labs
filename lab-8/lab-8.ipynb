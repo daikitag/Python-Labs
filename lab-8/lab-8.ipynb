{
 "cells": [
  {
   "cell_type": "markdown",
   "metadata": {},
   "source": [
    "# Lab-8: Basic Introduction to Machine Learning\n",
    "\n",
    "Adapted from [*An Introduction to Statistical Learning*](http://faculty.marshall.usc.edu/gareth-james/ISL/index.html).\n",
    "\n",
    "### Load packages and dataset"
   ]
  },
  {
   "cell_type": "code",
   "execution_count": null,
   "metadata": {},
   "outputs": [],
   "source": [
    "# import packages\n",
    "\n",
    "import pandas as pd\n",
    "import numpy as np\n",
    "from matplotlib import pyplot as plt\n",
    "\n",
    "from statsmodels.formula.api import ols"
   ]
  },
  {
   "cell_type": "markdown",
   "metadata": {},
   "source": [
    "The simplest place to start is machine learning with linear regression. Last week, we learned how to build simple linear regression models and multiple linear models using the `ols()` function. When we fit a linear regression model on weight and height data and then predicted the weight of an individual based on that individual's height, that was basic machine learning!\n",
    "\n",
    "This week, we will delve more deeply into linear regression and build on these skills in order to use linear regression for machine learning.\n",
    "\n",
    "Linear regression for machine learning is essentially this: predicting a value of interest using one or more predictors associated with this value of interest.\n",
    "> The \"value of interest\" is our response variable, which we denote $y$.\n",
    ">\n",
    "> Predictors are explanatory variables which can explain some of the variation in the response variable.<br>\n",
    "- If there is one predictor we specify it as $x$.<br>\n",
    "- If there are $n$ predictors, we denote them as $x_1, x_2, \\dots, x_n$\n",
    "\n",
    "In linear regression we assume that the response value is a linear combination of the value of the predictor variables. That is, the predicted value of our response variable, $\\hat{y}$ (\"y hat\") can be found with the following equation:\n",
    "$$\\hat{y} = \\alpha + \\beta_1x_1 + \\beta_2x_2 + \\dots + \\beta_nx_n$$\n",
    "> In the above equation, $\\alpha$ is the intercept of our regression model and the $\\beta_1, \\dots, \\beta_n$ values are the coefficients of the model. Each coefficient is associated with a different predictor variable.\n",
    " \n",
    "For typical, real data we do not know what the values of these coefficients are. This is why we may want to fit a model to these data so that this model can *learn* the values of these coefficients for us (machine learning!). As we know, in linear regression this model is fit such that the coefficients of this model minimize the residual sum of squares between the observed data points and the predicted data points.\n",
    "\n",
    "## Task 1: A simple example\n",
    "\n",
    "In the first cell we imported the `ols()` function from the statsmodel package. We can use this function to fit a linear regression model to a dataset of choice.\n",
    "\n",
    "Below, we have a very simple dataset.\n",
    "\n",
    "**Run the cell below to create the dataset.**"
   ]
  },
  {
   "cell_type": "code",
   "execution_count": null,
   "metadata": {},
   "outputs": [],
   "source": [
    "simple_data = pd.DataFrame(columns=[\"x1\", \"x2\", \"y\"])\n",
    "simple_data.loc[0, :] = [0, 0, 1]\n",
    "simple_data.loc[1, :] = [1, 1, 2]\n",
    "simple_data.loc[2, :] = [2, 2, 3]\n",
    "\n",
    "display(simple_data)"
   ]
  },
  {
   "cell_type": "markdown",
   "metadata": {},
   "source": [
    "In this dataset we would like to understand how the value of $y$ is affected by the values of $x_1$ and $x_2$. We assume this relationship will be linear and will look like this: $y = \\alpha + \\beta_1x_1 + \\beta_2x_2$.\n",
    "\n",
    "Just by looking at this dataset, how might you write an equation that relates the value of $y$ to the values of $x_1$ and $x_2$?\n",
    "> Seems like $y = 1. + 0.5x_1 + 0.5x_2$ would do the trick right?\n",
    "\n",
    "Let's see what happens when we fit a linear regression model to this dataset. **Run the cell below to do this (an explanation will follow).** "
   ]
  },
  {
   "cell_type": "code",
   "execution_count": null,
   "metadata": {},
   "outputs": [],
   "source": [
    "reg_model = ols(formula='y ~ x1 + x2', data=simple_data).fit()\n",
    "\n",
    "params = reg_model.params\n",
    "\n",
    "print(params)"
   ]
  },
  {
   "cell_type": "markdown",
   "metadata": {},
   "source": [
    "Using the supplied data, we have just learned the parameters of our linear regression model. As shown by the output above, the coefficients our model are $\\beta_1 = 0.5$ and $\\beta_2 = 0.5$. And the intercept is $\\alpha = 1$.\n",
    "\n",
    "Therefore, our prediction equation for the value of $y$ is the following:\n",
    "$$\\hat{y} = 1 + 0.5x_1 + 0.5x_2$$\n",
    "\n",
    "We can use this equation to predict the value of $y$ based off of new values for $x_1$ and $x_2$. For example, given the new values $x_1 = x_2 = 1.5$, we would do the following calculation to predict the value of $y$:"
   ]
  },
  {
   "cell_type": "code",
   "execution_count": null,
   "metadata": {},
   "outputs": [],
   "source": [
    "y_hat = 1 + 0.5*1.5 + 0.5*1.5\n",
    "\n",
    "print(y_hat)"
   ]
  },
  {
   "cell_type": "markdown",
   "metadata": {},
   "source": [
    "In more complex models, it will not be easy to do this calculation manually. Instead, we can use the `predict()` function."
   ]
  },
  {
   "cell_type": "code",
   "execution_count": null,
   "metadata": {},
   "outputs": [],
   "source": [
    "X_new = pd.DataFrame({\"x1\": [1.5], \"x2\": [1.5]})\n",
    "\n",
    "y_hat = reg_model.predict(X_new)\n",
    "\n",
    "print(y_hat.values)"
   ]
  },
  {
   "cell_type": "markdown",
   "metadata": {},
   "source": [
    "### Code explanation for fitting a linear regression model\n",
    "\n",
    "Here is an explanation of the code used to create and use a linear regression model:\n",
    "\n",
    "```python\n",
    "reg_model = ols(formula='y ~ x1 + x2', data=simple_data).fit()```\n",
    "> The code `ols( ,  ).fit()` in the line above creates a linear regression model and fits it to our data.<br>\n",
    "> We need to give the ols() method 2 crucial arguments:\n",
    "> - `formula=\"y ~ x1 + x2\"` specifies that $y$ is our response variable and that $x_1$ and $x_2$ are our predictor variables.\n",
    "> - `data=simple_data` tells the function where to find the data.\n",
    "> Our regression model is now stored in the variable `reg_model`.\n",
    "\n",
    "\n",
    "```python\n",
    "params = reg_model.params```\n",
    "> We access the coefficients and intercept associated with our newly fitted model using the `reg_model.params` command, and print these values out."
   ]
  },
  {
   "cell_type": "markdown",
   "metadata": {},
   "source": [
    "## Task 2\n",
    "\n",
    "Let's practice our new techniques on a more complex dataset.\n",
    "\n",
    "Below we import a new dataset in which record lists the advertising budget for TV, radio, newspaper and the corresponding total profit made from a product advertized on those platforms in a single city. All amounts are in (1000's of $)."
   ]
  },
  {
   "cell_type": "code",
   "execution_count": null,
   "metadata": {},
   "outputs": [],
   "source": [
    "adv_data = pd.read_csv(\"datasets/advertising.csv\")\n",
    "display(adv_data.head())"
   ]
  },
  {
   "cell_type": "markdown",
   "metadata": {},
   "source": [
    "Now let's say we wanted to understand the relationship between the TV advertising budget and the product sales.\n",
    "\n",
    "If we create a simple scatter plot with TV advertising budget on the x-axis and sales profit on the y-axis, we see that there appears to be a linear relationship."
   ]
  },
  {
   "cell_type": "code",
   "execution_count": null,
   "metadata": {},
   "outputs": [],
   "source": [
    "x_vals = adv_data[\"TV\"]\n",
    "y_vals = adv_data[\"sales\"]\n",
    "\n",
    "plt.scatter(x_vals, y_vals)"
   ]
  },
  {
   "cell_type": "markdown",
   "metadata": {},
   "source": [
    "So, let's go ahead and fit a linear regression model to these data. Our regression model formula will be `sales ~ TV`. Fill in the code below to fit this model."
   ]
  },
  {
   "cell_type": "code",
   "execution_count": null,
   "metadata": {},
   "outputs": [],
   "source": [
    "reg_model = ols(formula= , data= ).fit()\n",
    "\n",
    "print(reg_model.params)"
   ]
  },
  {
   "cell_type": "markdown",
   "metadata": {},
   "source": [
    "To make a prediction we need to give the `predict()` function labeled input data which follows the general form:\n",
    ">```python\n",
    ">y_hat = reg_model.predict({\"x1\": [x1_val], \"x2\": [x2_val], ...})\n",
    ">```\n",
    "> We will replace `\"x1\"`, `\"x2\"` etc with the names of our linear predictors, and replace `x1_val`, `x2_val` etc with the values of these predictors.\n",
    "\n",
    "Below we will use this code structure to make a sales prediction based off a new TV advertising budget of $\\$50\\ 000$."
   ]
  },
  {
   "cell_type": "code",
   "execution_count": null,
   "metadata": {},
   "outputs": [],
   "source": [
    "y_hat = reg_model.predict({\"TV\": [50]})\n",
    "\n",
    "print(y_hat.values)"
   ]
  },
  {
   "cell_type": "markdown",
   "metadata": {},
   "source": [
    "But is it only TV advertisement that has an effect on the sale of our product? Let's say we now want to understand whether advertisement on other platforms has an effect on the sale of our product.\n",
    "\n",
    "We can fit a multiple regression model with TV, radio and newspaper as our predictors: `sales ~ TV + radio + newspaper`.\n",
    "\n",
    "**Fill in the code below to fit this multiple linear regression model.**"
   ]
  },
  {
   "cell_type": "code",
   "execution_count": null,
   "metadata": {},
   "outputs": [],
   "source": [
    "reg_model2 = ols(formula= , data= ).fit()\n",
    "\n",
    "print(reg_model2.params)"
   ]
  },
  {
   "cell_type": "markdown",
   "metadata": {},
   "source": [
    "### Assessing the quality of our model\n",
    "\n",
    "Let's see how much variance in sales profit was explained in each of our two models."
   ]
  },
  {
   "cell_type": "code",
   "execution_count": null,
   "metadata": {},
   "outputs": [],
   "source": [
    "r_sq1 = reg_model.rsquared\n",
    "r_sq2 = reg_model2.rsquared\n",
    "\n",
    "print(\"model 1:\", r_sq1)\n",
    "print(\"model 2:\", r_sq2)"
   ]
  },
  {
   "cell_type": "markdown",
   "metadata": {},
   "source": [
    "Model 1 (sales ~ TV) explained about 61% of the variance in sales, while model 2 (sales ~ TV + radio + newspaper) was able to explain almost 90% of the variance. Model 2 must be better right? Wrong! Just because more variance is explained, does not mean our model is better. In fact, adding more predictor variables to your model will always result in an improvement in the amount of variance this model is able to explain. And this will occur *even if* these predictors do not have a statistically significant association with your response variable.\n",
    "\n",
    "Therefore, it is always important to perform hypothesis tests to assess the quality of our model.\n",
    "\n",
    "In addition to looking at measures like R-squared, we should address each of the following important questions which will help us assess the quality of our model:\n",
    "1. Is at least one of the predictors useful in predicting the response?\n",
    "2. Do all the predictors help to explain $Y$, or is only a subset of the predictors useful?\n",
    "3. Given a set of predictor values, what response value should we predict, and how accurate is our prediction?\n",
    "\n",
    "### Question 1: Is at least one of the predictors useful?\n",
    "\n",
    "To frame this question as a hypothesis test:\n",
    "\n",
    "$H_0: \\beta_1 = \\beta_2 = \\dots = \\beta_n = 0$ <br>\n",
    "$H_A: \\textrm{at least one}\\ \\beta_j\\ \\textrm{is not}\\ 0$\n",
    "\n",
    "In this test the null hypothesis says that none of the predictors are useful in predicting the response, while the alternative hypothesis says that at least one of the predictors is useful. If we obtain a substantially low $p$-value we can reject our null hypothesis and conclude that at least one predictor is useful!\n",
    "\n",
    "Turning back to the regression model fit for our advertisement data (`sales ~ TV + radio + newspaper`), this hypothesis test is performed when the model is fit.\n",
    "\n",
    "We can find the test statistic and $p$-value for this hypothesis test using the code below. **Run the cell below to display these values.**"
   ]
  },
  {
   "cell_type": "code",
   "execution_count": null,
   "metadata": {},
   "outputs": [],
   "source": [
    "F_statistic = reg_model2.fvalue\n",
    "p = reg_model2.f_pvalue\n",
    "\n",
    "print(F_statistic)\n",
    "print(p)"
   ]
  },
  {
   "cell_type": "markdown",
   "metadata": {},
   "source": [
    "Our $p$-value is extremely small, so we can reject our null hypothesis in support of our alternative hypothesis and conclude that ***at least one predictor is useful***.\n",
    "\n",
    "### Question 2: Are *all* the predictors useful?\n",
    "\n",
    "We can answer this question by looking at each predictor separately, and for each predictor testing:<br>\n",
    "$H_0: \\beta_j = 0$<br>\n",
    "$H_A: \\beta_j \\ne 0$<br>\n",
    "where $\\beta_j$ is the coefficient association with the predictor.\n",
    "\n",
    "For example, in our advertisement example, one of our hypothesis tests would be the following:<br>\n",
    "$H_0: \\beta_1 = 0 \\qquad H_A: \\beta_1 \\ne 0$<br>\n",
    "where $\\beta_1$ is the coefficient association with the TV predictor.\n",
    "\n",
    "Again, these hypothesis tests are performed when the model is fit and results of these tests can be obtained with the code in the following cell. **Run the cell.**"
   ]
  },
  {
   "cell_type": "code",
   "execution_count": null,
   "metadata": {},
   "outputs": [],
   "source": [
    "pvals = reg_model2.pvalues\n",
    "\n",
    "print(pvals)"
   ]
  },
  {
   "cell_type": "markdown",
   "metadata": {},
   "source": [
    "It can be difficult to look at these values in scientific format, so let's convert them to decimal format, if we can:"
   ]
  },
  {
   "cell_type": "code",
   "execution_count": null,
   "metadata": {},
   "outputs": [],
   "source": [
    "for val in pvals:\n",
    "    \n",
    "    print(float(val))"
   ]
  },
  {
   "cell_type": "markdown",
   "metadata": {},
   "source": [
    "So, notice that the $p$-values for the tests associated with the coefficients of the TV and radio predictors are both very small. So we reject the null hypothesis and conclude that these predictors are useful in predicting our response value.\n",
    "\n",
    "But the last $p$-value for the test associated with the newspaper predictor coefficient is quite large. We do not have statistically significant evidence to reject the null hypothesis in this test. Therefore, we do not have evidence to show that newspaper advertisement budget is useful in predicting our response value.\n",
    "\n",
    "Thus, a better model might actually just be `sales ~ TV + radio`.\n",
    "\n",
    "**Let's fit that model**:"
   ]
  },
  {
   "cell_type": "code",
   "execution_count": null,
   "metadata": {},
   "outputs": [],
   "source": [
    "reg_model3 = ols(formula='sales ~ TV + radio', data=adv_data).fit()\n",
    "\n",
    "print(reg_model3.params)"
   ]
  },
  {
   "cell_type": "markdown",
   "metadata": {},
   "source": [
    "We can see the results of the hypothesis tests considered above for this new model by displaying the model output summary:"
   ]
  },
  {
   "cell_type": "code",
   "execution_count": null,
   "metadata": {},
   "outputs": [],
   "source": [
    "reg_model3.summary()"
   ]
  },
  {
   "cell_type": "markdown",
   "metadata": {},
   "source": [
    "### Question 3: How accurate are our predictions?\n",
    "\n",
    "We already know that we can use `predict()` method with our fitted regression model to predict a response value given new x-values.\n",
    "\n",
    "What is the predicted sales profit given that the advertisement budgets are $\\$100\\ 000$ for TV and $\\$20\\ 000$ for radio? **Run the cell below to find out.**"
   ]
  },
  {
   "cell_type": "code",
   "execution_count": null,
   "metadata": {},
   "outputs": [],
   "source": [
    "y_hat = reg_model3.predict({\"TV\": 100, \"radio\": 20})\n",
    "\n",
    "print(y_hat.values)"
   ]
  },
  {
   "cell_type": "markdown",
   "metadata": {},
   "source": [
    "*But* there is uncertainty associated with this prediction. We can easily see where some of this uncertainty comes from by looking at our estimated (learned) model parameters again. Below we print out confidence intervals associated with each parameter estimate."
   ]
  },
  {
   "cell_type": "code",
   "execution_count": null,
   "metadata": {},
   "outputs": [],
   "source": [
    "reg_model3.conf_int()"
   ]
  },
  {
   "cell_type": "markdown",
   "metadata": {},
   "source": [
    "For example, the coefficient associated with the radio predictor was estimated to be 0.187994. But the confidence interval is $[0.172139, 0.203850]$. We can only say with 95% confidence that the true value of this coefficient falls within this interval. Therefore, because we use these estimated coefficients that have uncertainty to make predictions, there will be uncertainty in our predictions as well.\n",
    "\n",
    "Uncertainty also comes from other sources, such as random error in the model.\n",
    "\n",
    "So, we use a confidence interval to quantify the uncertainty surrounding the average value of our response variable over a large number predictions. A prediction interval is used to quantify the uncertainty surrounding the value of our response variable for a specific prediction.\n",
    "\n",
    "Let's compute the confidence interval and prediction interval for our the case in which we spend $\\$100\\ 000$ on TV advertisement and $\\$20\\ 000$ on radio advertisement."
   ]
  },
  {
   "cell_type": "code",
   "execution_count": null,
   "metadata": {},
   "outputs": [],
   "source": [
    "prediction = reg_model3.get_prediction({\"TV\": 100, \"radio\": 20})\n",
    "\n",
    "display(prediction.summary_frame())"
   ]
  },
  {
   "cell_type": "markdown",
   "metadata": {},
   "source": [
    "So, say we spent $\\$100\\ 000$ on TV advertisement and $\\$20\\ 000$ on radio advertisement in each city, the 95% confidence interval is $[10.985, 11.528]$. This means that we are 95% confident that the true average of sales across all cities falls in this interval.\n",
    "\n",
    "But we looked at one single city in which we spent the same amounts on advertisement. The 95% prediction interval is $[7.930, 14.583]$. This means that we are 95% confident that the true sales value for this city falls in this interval.\n",
    "\n",
    "Note that the prediction interval is much larger than the confidence interval because there is more uncertainty when talking about sales for a single city than when talking about the average sales across many cities."
   ]
  },
  {
   "cell_type": "code",
   "execution_count": null,
   "metadata": {},
   "outputs": [],
   "source": []
  }
 ],
 "metadata": {
  "kernelspec": {
   "display_name": "Python 3",
   "language": "python",
   "name": "python3"
  },
  "language_info": {
   "codemirror_mode": {
    "name": "ipython",
    "version": 3
   },
   "file_extension": ".py",
   "mimetype": "text/x-python",
   "name": "python",
   "nbconvert_exporter": "python",
   "pygments_lexer": "ipython3",
   "version": "3.7.3"
  }
 },
 "nbformat": 4,
 "nbformat_minor": 2
}
